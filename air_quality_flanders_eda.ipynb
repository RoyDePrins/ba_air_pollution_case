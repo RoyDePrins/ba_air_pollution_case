{
 "cells": [
  {
   "cell_type": "markdown",
   "id": "0bbf4898",
   "metadata": {},
   "source": [
    "This notebook is only used for Data Exploration Purposes.\n",
    "\n",
    "\n",
    "Assumptions:\n",
    "- Only stations in Flanders and Brussels are taken into account. Making abstraction of the fact that measurements in stations in Wallonia could also have an impact on air quality in Flanders, particularly in regions close to the Walloon border. (https://data.europa.eu/data/datasets/https-www-odwb-be-explore-dataset-regionsgeweste-belgium-?locale=en)\n",
    "- Mapping of pollutant parameters based on \"https://geo.irceline.be/sos/api/v1/phenomena\"\n",
    "- Mapped certain labels to cities that are more logical\n",
    "- Did not filter out pollution values of 0 or outliers as their meaning depends on the Pollutor and I don't have the required knowledge to treath them\n",
    "- ..."
   ]
  },
  {
   "cell_type": "markdown",
   "id": "b673b1f5",
   "metadata": {},
   "source": [
    "# Setup and configuration"
   ]
  },
  {
   "cell_type": "code",
   "execution_count": 1,
   "id": "d334885f",
   "metadata": {
    "ExecuteTime": {
     "end_time": "2025-07-29T14:42:37.466375Z",
     "start_time": "2025-07-29T14:42:35.605649Z"
    }
   },
   "outputs": [],
   "source": [
    "import requests\n",
    "import pandas as pd\n",
    "import geopandas as gpd\n",
    "from shapely.geometry import Point\n",
    "import plotly.express as px\n",
    "import plotly.graph_objects as go\n",
    "import datetime\n",
    "\n",
    "from typing import List, Dict"
   ]
  },
  {
   "cell_type": "markdown",
   "id": "cb3069db",
   "metadata": {},
   "source": [
    "# Read data"
   ]
  },
  {
   "cell_type": "code",
   "execution_count": 2,
   "id": "90ef8347",
   "metadata": {
    "ExecuteTime": {
     "end_time": "2025-07-29T14:42:45.052362Z",
     "start_time": "2025-07-29T14:42:45.049071Z"
    }
   },
   "outputs": [],
   "source": [
    "base_url = \"https://geo.irceline.be/sos/api/v1\"\n",
    "stations_url = f\"{base_url}/stations\"\n",
    "time_series_url = f\"{base_url}/timeseries\""
   ]
  },
  {
   "cell_type": "code",
   "execution_count": 3,
   "id": "3df82d8e",
   "metadata": {
    "ExecuteTime": {
     "end_time": "2025-07-29T14:42:45.855473Z",
     "start_time": "2025-07-29T14:42:45.850863Z"
    }
   },
   "outputs": [],
   "source": [
    "def fetch_url(url: str) -> List[Dict]:\n",
    "    response = requests.get(url)\n",
    "    response.raise_for_status()\n",
    "    return response.json()"
   ]
  },
  {
   "cell_type": "markdown",
   "id": "77d5c642",
   "metadata": {},
   "source": [
    "## Stations data"
   ]
  },
  {
   "cell_type": "code",
   "execution_count": 5,
   "id": "afc79c28",
   "metadata": {
    "ExecuteTime": {
     "end_time": "2025-07-29T16:21:13.114270Z",
     "start_time": "2025-07-29T16:21:13.109858Z"
    }
   },
   "outputs": [],
   "source": [
    "def get_flanders_border(include_brussels: bool = True) -> gpd.GeoDataFrame:\n",
    "    regions_to_include = [\"vlaams gewest\"]\n",
    "    if include_brussels:\n",
    "        regions_to_include.append(\"brussels hoofdstedelijk gewest\")\n",
    "    \n",
    "    regions_gdf = gpd.read_file(\"regionsgeweste-belgium.geojson\")[[\"geometry\", \"reg_name_lower_nl\"]]\n",
    "    return regions_gdf[regions_gdf[\"reg_name_lower_nl\"].isin(regions_to_include)]"
   ]
  },
  {
   "cell_type": "code",
   "execution_count": 6,
   "id": "cd8035d9",
   "metadata": {
    "ExecuteTime": {
     "end_time": "2025-07-29T16:24:35.310636Z",
     "start_time": "2025-07-29T16:24:35.301530Z"
    }
   },
   "outputs": [],
   "source": [
    "def is_flanders(geom: List[int], city: str) -> bool:\n",
    "    if not geom or len(geom) < 2 or geom[0] is None or geom[1] is None:\n",
    "        return False\n",
    "\n",
    "    flanders_regions_gpd = get_flanders_border()\n",
    "    return flanders_regions_gpd.contains(Point(geom[0], geom[1])).any()\n",
    "\n",
    "\n",
    "def extract_city(label: str) -> str:\n",
    "    city_mapping_dict = {\n",
    "        \"48R236 - Aeroport 2\": \"Liège\",\n",
    "        \"48R516 - Aeroport 2\": \"Charleroi\",\n",
    "        \"48R237 - Aeroport 1\": \"Liège\",\n",
    "        \"48R515 - Aeroport 1\": \"Charleroi\",\n",
    "        \"Arts-Loi\": \"Brussel\",\n",
    "        \"Bruxelles\": \"Brussel\",\n",
    "        \"Maerlant\": \"Antwerpen\",\n",
    "    }\n",
    "    \n",
    "    try:\n",
    "        name_part = label.split(\" - \", 1)[1]\n",
    "        city = name_part.split(\"(\", 1)[0].strip().capitalize()\n",
    "\n",
    "        for city_mapping in list(city_mapping_dict.keys()):\n",
    "            if city_mapping in label:\n",
    "                city = city_mapping_dict.get(city_mapping)\n",
    "        return city\n",
    "\n",
    "    except IndexError:\n",
    "        return None\n",
    "\n",
    "    \n",
    "def get_and_parse_station_data(stations_url: str) -> pd.DataFrame:\n",
    "    stations_raw = fetch_url(stations_url)\n",
    "\n",
    "    records = []\n",
    "    for station in stations_raw:\n",
    "        props = station.get(\"properties\")\n",
    "        geom = station.get(\"geometry\").get(\"coordinates\")\n",
    "        \n",
    "        label = props.get(\"label\")\n",
    "        city = extract_city(label)\n",
    "\n",
    "        if not is_flanders(geom, city):\n",
    "            continue\n",
    "\n",
    "        records.append({\n",
    "            \"station_id\": props.get(\"id\"),\n",
    "            \"station_label\": label,\n",
    "            \"station_longitude\": geom[0],\n",
    "            \"station_latitude\": geom[1],\n",
    "            \"station_city\": city,\n",
    "        })\n",
    "\n",
    "    return pd.DataFrame(records)"
   ]
  },
  {
   "cell_type": "code",
   "execution_count": 7,
   "id": "6c58f12f",
   "metadata": {
    "ExecuteTime": {
     "end_time": "2025-07-29T16:24:41.965223Z",
     "start_time": "2025-07-29T16:24:37.878311Z"
    }
   },
   "outputs": [
    {
     "name": "stderr",
     "output_type": "stream",
     "text": [
      "Skipping field reg_code: unsupported OGR type: 5\n",
      "Skipping field reg_name_fr: unsupported OGR type: 5\n",
      "Skipping field reg_name_nl: unsupported OGR type: 5\n",
      "Skipping field reg_name_de: unsupported OGR type: 5\n",
      "Skipping field reg_code: unsupported OGR type: 5\n",
      "Skipping field reg_name_fr: unsupported OGR type: 5\n",
      "Skipping field reg_name_nl: unsupported OGR type: 5\n",
      "Skipping field reg_name_de: unsupported OGR type: 5\n",
      "Skipping field reg_code: unsupported OGR type: 5\n",
      "Skipping field reg_name_fr: unsupported OGR type: 5\n",
      "Skipping field reg_name_nl: unsupported OGR type: 5\n",
      "Skipping field reg_name_de: unsupported OGR type: 5\n",
      "Skipping field reg_code: unsupported OGR type: 5\n",
      "Skipping field reg_name_fr: unsupported OGR type: 5\n",
      "Skipping field reg_name_nl: unsupported OGR type: 5\n",
      "Skipping field reg_name_de: unsupported OGR type: 5\n",
      "Skipping field reg_code: unsupported OGR type: 5\n",
      "Skipping field reg_name_fr: unsupported OGR type: 5\n",
      "Skipping field reg_name_nl: unsupported OGR type: 5\n",
      "Skipping field reg_name_de: unsupported OGR type: 5\n",
      "Skipping field reg_code: unsupported OGR type: 5\n",
      "Skipping field reg_name_fr: unsupported OGR type: 5\n",
      "Skipping field reg_name_nl: unsupported OGR type: 5\n",
      "Skipping field reg_name_de: unsupported OGR type: 5\n",
      "Skipping field reg_code: unsupported OGR type: 5\n",
      "Skipping field reg_name_fr: unsupported OGR type: 5\n",
      "Skipping field reg_name_nl: unsupported OGR type: 5\n",
      "Skipping field reg_name_de: unsupported OGR type: 5\n",
      "Skipping field reg_code: unsupported OGR type: 5\n",
      "Skipping field reg_name_fr: unsupported OGR type: 5\n",
      "Skipping field reg_name_nl: unsupported OGR type: 5\n",
      "Skipping field reg_name_de: unsupported OGR type: 5\n",
      "Skipping field reg_code: unsupported OGR type: 5\n",
      "Skipping field reg_name_fr: unsupported OGR type: 5\n",
      "Skipping field reg_name_nl: unsupported OGR type: 5\n",
      "Skipping field reg_name_de: unsupported OGR type: 5\n",
      "Skipping field reg_code: unsupported OGR type: 5\n",
      "Skipping field reg_name_fr: unsupported OGR type: 5\n",
      "Skipping field reg_name_nl: unsupported OGR type: 5\n",
      "Skipping field reg_name_de: unsupported OGR type: 5\n",
      "Skipping field reg_code: unsupported OGR type: 5\n",
      "Skipping field reg_name_fr: unsupported OGR type: 5\n",
      "Skipping field reg_name_nl: unsupported OGR type: 5\n",
      "Skipping field reg_name_de: unsupported OGR type: 5\n",
      "Skipping field reg_code: unsupported OGR type: 5\n",
      "Skipping field reg_name_fr: unsupported OGR type: 5\n",
      "Skipping field reg_name_nl: unsupported OGR type: 5\n",
      "Skipping field reg_name_de: unsupported OGR type: 5\n",
      "Skipping field reg_code: unsupported OGR type: 5\n",
      "Skipping field reg_name_fr: unsupported OGR type: 5\n",
      "Skipping field reg_name_nl: unsupported OGR type: 5\n",
      "Skipping field reg_name_de: unsupported OGR type: 5\n",
      "Skipping field reg_code: unsupported OGR type: 5\n",
      "Skipping field reg_name_fr: unsupported OGR type: 5\n",
      "Skipping field reg_name_nl: unsupported OGR type: 5\n",
      "Skipping field reg_name_de: unsupported OGR type: 5\n",
      "Skipping field reg_code: unsupported OGR type: 5\n",
      "Skipping field reg_name_fr: unsupported OGR type: 5\n",
      "Skipping field reg_name_nl: unsupported OGR type: 5\n",
      "Skipping field reg_name_de: unsupported OGR type: 5\n",
      "Skipping field reg_code: unsupported OGR type: 5\n",
      "Skipping field reg_name_fr: unsupported OGR type: 5\n",
      "Skipping field reg_name_nl: unsupported OGR type: 5\n",
      "Skipping field reg_name_de: unsupported OGR type: 5\n",
      "Skipping field reg_code: unsupported OGR type: 5\n",
      "Skipping field reg_name_fr: unsupported OGR type: 5\n",
      "Skipping field reg_name_nl: unsupported OGR type: 5\n",
      "Skipping field reg_name_de: unsupported OGR type: 5\n",
      "Skipping field reg_code: unsupported OGR type: 5\n",
      "Skipping field reg_name_fr: unsupported OGR type: 5\n",
      "Skipping field reg_name_nl: unsupported OGR type: 5\n",
      "Skipping field reg_name_de: unsupported OGR type: 5\n",
      "Skipping field reg_code: unsupported OGR type: 5\n",
      "Skipping field reg_name_fr: unsupported OGR type: 5\n",
      "Skipping field reg_name_nl: unsupported OGR type: 5\n",
      "Skipping field reg_name_de: unsupported OGR type: 5\n",
      "Skipping field reg_code: unsupported OGR type: 5\n",
      "Skipping field reg_name_fr: unsupported OGR type: 5\n",
      "Skipping field reg_name_nl: unsupported OGR type: 5\n",
      "Skipping field reg_name_de: unsupported OGR type: 5\n",
      "Skipping field reg_code: unsupported OGR type: 5\n",
      "Skipping field reg_name_fr: unsupported OGR type: 5\n",
      "Skipping field reg_name_nl: unsupported OGR type: 5\n",
      "Skipping field reg_name_de: unsupported OGR type: 5\n",
      "Skipping field reg_code: unsupported OGR type: 5\n",
      "Skipping field reg_name_fr: unsupported OGR type: 5\n",
      "Skipping field reg_name_nl: unsupported OGR type: 5\n",
      "Skipping field reg_name_de: unsupported OGR type: 5\n",
      "Skipping field reg_code: unsupported OGR type: 5\n",
      "Skipping field reg_name_fr: unsupported OGR type: 5\n",
      "Skipping field reg_name_nl: unsupported OGR type: 5\n",
      "Skipping field reg_name_de: unsupported OGR type: 5\n",
      "Skipping field reg_code: unsupported OGR type: 5\n",
      "Skipping field reg_name_fr: unsupported OGR type: 5\n",
      "Skipping field reg_name_nl: unsupported OGR type: 5\n",
      "Skipping field reg_name_de: unsupported OGR type: 5\n",
      "Skipping field reg_code: unsupported OGR type: 5\n",
      "Skipping field reg_name_fr: unsupported OGR type: 5\n",
      "Skipping field reg_name_nl: unsupported OGR type: 5\n",
      "Skipping field reg_name_de: unsupported OGR type: 5\n",
      "Skipping field reg_code: unsupported OGR type: 5\n",
      "Skipping field reg_name_fr: unsupported OGR type: 5\n",
      "Skipping field reg_name_nl: unsupported OGR type: 5\n",
      "Skipping field reg_name_de: unsupported OGR type: 5\n",
      "Skipping field reg_code: unsupported OGR type: 5\n",
      "Skipping field reg_name_fr: unsupported OGR type: 5\n",
      "Skipping field reg_name_nl: unsupported OGR type: 5\n",
      "Skipping field reg_name_de: unsupported OGR type: 5\n",
      "Skipping field reg_code: unsupported OGR type: 5\n",
      "Skipping field reg_name_fr: unsupported OGR type: 5\n",
      "Skipping field reg_name_nl: unsupported OGR type: 5\n",
      "Skipping field reg_name_de: unsupported OGR type: 5\n",
      "Skipping field reg_code: unsupported OGR type: 5\n",
      "Skipping field reg_name_fr: unsupported OGR type: 5\n",
      "Skipping field reg_name_nl: unsupported OGR type: 5\n",
      "Skipping field reg_name_de: unsupported OGR type: 5\n",
      "Skipping field reg_code: unsupported OGR type: 5\n",
      "Skipping field reg_name_fr: unsupported OGR type: 5\n",
      "Skipping field reg_name_nl: unsupported OGR type: 5\n",
      "Skipping field reg_name_de: unsupported OGR type: 5\n",
      "Skipping field reg_code: unsupported OGR type: 5\n",
      "Skipping field reg_name_fr: unsupported OGR type: 5\n",
      "Skipping field reg_name_nl: unsupported OGR type: 5\n",
      "Skipping field reg_name_de: unsupported OGR type: 5\n",
      "Skipping field reg_code: unsupported OGR type: 5\n",
      "Skipping field reg_name_fr: unsupported OGR type: 5\n",
      "Skipping field reg_name_nl: unsupported OGR type: 5\n",
      "Skipping field reg_name_de: unsupported OGR type: 5\n",
      "Skipping field reg_code: unsupported OGR type: 5\n",
      "Skipping field reg_name_fr: unsupported OGR type: 5\n",
      "Skipping field reg_name_nl: unsupported OGR type: 5\n",
      "Skipping field reg_name_de: unsupported OGR type: 5\n",
      "Skipping field reg_code: unsupported OGR type: 5\n",
      "Skipping field reg_name_fr: unsupported OGR type: 5\n",
      "Skipping field reg_name_nl: unsupported OGR type: 5\n",
      "Skipping field reg_name_de: unsupported OGR type: 5\n",
      "Skipping field reg_code: unsupported OGR type: 5\n",
      "Skipping field reg_name_fr: unsupported OGR type: 5\n",
      "Skipping field reg_name_nl: unsupported OGR type: 5\n",
      "Skipping field reg_name_de: unsupported OGR type: 5\n",
      "Skipping field reg_code: unsupported OGR type: 5\n",
      "Skipping field reg_name_fr: unsupported OGR type: 5\n",
      "Skipping field reg_name_nl: unsupported OGR type: 5\n",
      "Skipping field reg_name_de: unsupported OGR type: 5\n",
      "Skipping field reg_code: unsupported OGR type: 5\n",
      "Skipping field reg_name_fr: unsupported OGR type: 5\n",
      "Skipping field reg_name_nl: unsupported OGR type: 5\n",
      "Skipping field reg_name_de: unsupported OGR type: 5\n",
      "Skipping field reg_code: unsupported OGR type: 5\n",
      "Skipping field reg_name_fr: unsupported OGR type: 5\n",
      "Skipping field reg_name_nl: unsupported OGR type: 5\n",
      "Skipping field reg_name_de: unsupported OGR type: 5\n",
      "Skipping field reg_code: unsupported OGR type: 5\n",
      "Skipping field reg_name_fr: unsupported OGR type: 5\n",
      "Skipping field reg_name_nl: unsupported OGR type: 5\n",
      "Skipping field reg_name_de: unsupported OGR type: 5\n",
      "Skipping field reg_code: unsupported OGR type: 5\n",
      "Skipping field reg_name_fr: unsupported OGR type: 5\n",
      "Skipping field reg_name_nl: unsupported OGR type: 5\n",
      "Skipping field reg_name_de: unsupported OGR type: 5\n",
      "Skipping field reg_code: unsupported OGR type: 5\n",
      "Skipping field reg_name_fr: unsupported OGR type: 5\n",
      "Skipping field reg_name_nl: unsupported OGR type: 5\n",
      "Skipping field reg_name_de: unsupported OGR type: 5\n",
      "Skipping field reg_code: unsupported OGR type: 5\n",
      "Skipping field reg_name_fr: unsupported OGR type: 5\n",
      "Skipping field reg_name_nl: unsupported OGR type: 5\n",
      "Skipping field reg_name_de: unsupported OGR type: 5\n",
      "Skipping field reg_code: unsupported OGR type: 5\n",
      "Skipping field reg_name_fr: unsupported OGR type: 5\n",
      "Skipping field reg_name_nl: unsupported OGR type: 5\n",
      "Skipping field reg_name_de: unsupported OGR type: 5\n",
      "Skipping field reg_code: unsupported OGR type: 5\n",
      "Skipping field reg_name_fr: unsupported OGR type: 5\n",
      "Skipping field reg_name_nl: unsupported OGR type: 5\n",
      "Skipping field reg_name_de: unsupported OGR type: 5\n",
      "Skipping field reg_code: unsupported OGR type: 5\n",
      "Skipping field reg_name_fr: unsupported OGR type: 5\n",
      "Skipping field reg_name_nl: unsupported OGR type: 5\n",
      "Skipping field reg_name_de: unsupported OGR type: 5\n",
      "Skipping field reg_code: unsupported OGR type: 5\n",
      "Skipping field reg_name_fr: unsupported OGR type: 5\n",
      "Skipping field reg_name_nl: unsupported OGR type: 5\n",
      "Skipping field reg_name_de: unsupported OGR type: 5\n",
      "Skipping field reg_code: unsupported OGR type: 5\n",
      "Skipping field reg_name_fr: unsupported OGR type: 5\n",
      "Skipping field reg_name_nl: unsupported OGR type: 5\n",
      "Skipping field reg_name_de: unsupported OGR type: 5\n",
      "Skipping field reg_code: unsupported OGR type: 5\n",
      "Skipping field reg_name_fr: unsupported OGR type: 5\n",
      "Skipping field reg_name_nl: unsupported OGR type: 5\n",
      "Skipping field reg_name_de: unsupported OGR type: 5\n",
      "Skipping field reg_code: unsupported OGR type: 5\n",
      "Skipping field reg_name_fr: unsupported OGR type: 5\n",
      "Skipping field reg_name_nl: unsupported OGR type: 5\n",
      "Skipping field reg_name_de: unsupported OGR type: 5\n",
      "Skipping field reg_code: unsupported OGR type: 5\n",
      "Skipping field reg_name_fr: unsupported OGR type: 5\n",
      "Skipping field reg_name_nl: unsupported OGR type: 5\n",
      "Skipping field reg_name_de: unsupported OGR type: 5\n",
      "Skipping field reg_code: unsupported OGR type: 5\n",
      "Skipping field reg_name_fr: unsupported OGR type: 5\n",
      "Skipping field reg_name_nl: unsupported OGR type: 5\n",
      "Skipping field reg_name_de: unsupported OGR type: 5\n",
      "Skipping field reg_code: unsupported OGR type: 5\n",
      "Skipping field reg_name_fr: unsupported OGR type: 5\n",
      "Skipping field reg_name_nl: unsupported OGR type: 5\n",
      "Skipping field reg_name_de: unsupported OGR type: 5\n",
      "Skipping field reg_code: unsupported OGR type: 5\n",
      "Skipping field reg_name_fr: unsupported OGR type: 5\n",
      "Skipping field reg_name_nl: unsupported OGR type: 5\n",
      "Skipping field reg_name_de: unsupported OGR type: 5\n",
      "Skipping field reg_code: unsupported OGR type: 5\n",
      "Skipping field reg_name_fr: unsupported OGR type: 5\n",
      "Skipping field reg_name_nl: unsupported OGR type: 5\n",
      "Skipping field reg_name_de: unsupported OGR type: 5\n",
      "Skipping field reg_code: unsupported OGR type: 5\n",
      "Skipping field reg_name_fr: unsupported OGR type: 5\n",
      "Skipping field reg_name_nl: unsupported OGR type: 5\n",
      "Skipping field reg_name_de: unsupported OGR type: 5\n",
      "Skipping field reg_code: unsupported OGR type: 5\n",
      "Skipping field reg_name_fr: unsupported OGR type: 5\n",
      "Skipping field reg_name_nl: unsupported OGR type: 5\n",
      "Skipping field reg_name_de: unsupported OGR type: 5\n",
      "Skipping field reg_code: unsupported OGR type: 5\n",
      "Skipping field reg_name_fr: unsupported OGR type: 5\n",
      "Skipping field reg_name_nl: unsupported OGR type: 5\n",
      "Skipping field reg_name_de: unsupported OGR type: 5\n",
      "Skipping field reg_code: unsupported OGR type: 5\n",
      "Skipping field reg_name_fr: unsupported OGR type: 5\n",
      "Skipping field reg_name_nl: unsupported OGR type: 5\n",
      "Skipping field reg_name_de: unsupported OGR type: 5\n",
      "Skipping field reg_code: unsupported OGR type: 5\n",
      "Skipping field reg_name_fr: unsupported OGR type: 5\n",
      "Skipping field reg_name_nl: unsupported OGR type: 5\n",
      "Skipping field reg_name_de: unsupported OGR type: 5\n",
      "Skipping field reg_code: unsupported OGR type: 5\n",
      "Skipping field reg_name_fr: unsupported OGR type: 5\n",
      "Skipping field reg_name_nl: unsupported OGR type: 5\n",
      "Skipping field reg_name_de: unsupported OGR type: 5\n",
      "Skipping field reg_code: unsupported OGR type: 5\n",
      "Skipping field reg_name_fr: unsupported OGR type: 5\n",
      "Skipping field reg_name_nl: unsupported OGR type: 5\n",
      "Skipping field reg_name_de: unsupported OGR type: 5\n",
      "Skipping field reg_code: unsupported OGR type: 5\n",
      "Skipping field reg_name_fr: unsupported OGR type: 5\n",
      "Skipping field reg_name_nl: unsupported OGR type: 5\n",
      "Skipping field reg_name_de: unsupported OGR type: 5\n",
      "Skipping field reg_code: unsupported OGR type: 5\n",
      "Skipping field reg_name_fr: unsupported OGR type: 5\n",
      "Skipping field reg_name_nl: unsupported OGR type: 5\n",
      "Skipping field reg_name_de: unsupported OGR type: 5\n",
      "Skipping field reg_code: unsupported OGR type: 5\n",
      "Skipping field reg_name_fr: unsupported OGR type: 5\n",
      "Skipping field reg_name_nl: unsupported OGR type: 5\n",
      "Skipping field reg_name_de: unsupported OGR type: 5\n",
      "Skipping field reg_code: unsupported OGR type: 5\n",
      "Skipping field reg_name_fr: unsupported OGR type: 5\n",
      "Skipping field reg_name_nl: unsupported OGR type: 5\n",
      "Skipping field reg_name_de: unsupported OGR type: 5\n",
      "Skipping field reg_code: unsupported OGR type: 5\n",
      "Skipping field reg_name_fr: unsupported OGR type: 5\n",
      "Skipping field reg_name_nl: unsupported OGR type: 5\n",
      "Skipping field reg_name_de: unsupported OGR type: 5\n",
      "Skipping field reg_code: unsupported OGR type: 5\n",
      "Skipping field reg_name_fr: unsupported OGR type: 5\n",
      "Skipping field reg_name_nl: unsupported OGR type: 5\n",
      "Skipping field reg_name_de: unsupported OGR type: 5\n",
      "Skipping field reg_code: unsupported OGR type: 5\n",
      "Skipping field reg_name_fr: unsupported OGR type: 5\n",
      "Skipping field reg_name_nl: unsupported OGR type: 5\n",
      "Skipping field reg_name_de: unsupported OGR type: 5\n",
      "Skipping field reg_code: unsupported OGR type: 5\n",
      "Skipping field reg_name_fr: unsupported OGR type: 5\n",
      "Skipping field reg_name_nl: unsupported OGR type: 5\n",
      "Skipping field reg_name_de: unsupported OGR type: 5\n",
      "Skipping field reg_code: unsupported OGR type: 5\n",
      "Skipping field reg_name_fr: unsupported OGR type: 5\n",
      "Skipping field reg_name_nl: unsupported OGR type: 5\n",
      "Skipping field reg_name_de: unsupported OGR type: 5\n",
      "Skipping field reg_code: unsupported OGR type: 5\n",
      "Skipping field reg_name_fr: unsupported OGR type: 5\n",
      "Skipping field reg_name_nl: unsupported OGR type: 5\n",
      "Skipping field reg_name_de: unsupported OGR type: 5\n",
      "Skipping field reg_code: unsupported OGR type: 5\n",
      "Skipping field reg_name_fr: unsupported OGR type: 5\n",
      "Skipping field reg_name_nl: unsupported OGR type: 5\n",
      "Skipping field reg_name_de: unsupported OGR type: 5\n",
      "Skipping field reg_code: unsupported OGR type: 5\n",
      "Skipping field reg_name_fr: unsupported OGR type: 5\n",
      "Skipping field reg_name_nl: unsupported OGR type: 5\n",
      "Skipping field reg_name_de: unsupported OGR type: 5\n",
      "Skipping field reg_code: unsupported OGR type: 5\n",
      "Skipping field reg_name_fr: unsupported OGR type: 5\n",
      "Skipping field reg_name_nl: unsupported OGR type: 5\n",
      "Skipping field reg_name_de: unsupported OGR type: 5\n",
      "Skipping field reg_code: unsupported OGR type: 5\n",
      "Skipping field reg_name_fr: unsupported OGR type: 5\n",
      "Skipping field reg_name_nl: unsupported OGR type: 5\n",
      "Skipping field reg_name_de: unsupported OGR type: 5\n",
      "Skipping field reg_code: unsupported OGR type: 5\n",
      "Skipping field reg_name_fr: unsupported OGR type: 5\n",
      "Skipping field reg_name_nl: unsupported OGR type: 5\n",
      "Skipping field reg_name_de: unsupported OGR type: 5\n",
      "Skipping field reg_code: unsupported OGR type: 5\n",
      "Skipping field reg_name_fr: unsupported OGR type: 5\n",
      "Skipping field reg_name_nl: unsupported OGR type: 5\n",
      "Skipping field reg_name_de: unsupported OGR type: 5\n",
      "Skipping field reg_code: unsupported OGR type: 5\n",
      "Skipping field reg_name_fr: unsupported OGR type: 5\n",
      "Skipping field reg_name_nl: unsupported OGR type: 5\n",
      "Skipping field reg_name_de: unsupported OGR type: 5\n",
      "Skipping field reg_code: unsupported OGR type: 5\n",
      "Skipping field reg_name_fr: unsupported OGR type: 5\n",
      "Skipping field reg_name_nl: unsupported OGR type: 5\n",
      "Skipping field reg_name_de: unsupported OGR type: 5\n",
      "Skipping field reg_code: unsupported OGR type: 5\n",
      "Skipping field reg_name_fr: unsupported OGR type: 5\n",
      "Skipping field reg_name_nl: unsupported OGR type: 5\n",
      "Skipping field reg_name_de: unsupported OGR type: 5\n",
      "Skipping field reg_code: unsupported OGR type: 5\n",
      "Skipping field reg_name_fr: unsupported OGR type: 5\n",
      "Skipping field reg_name_nl: unsupported OGR type: 5\n",
      "Skipping field reg_name_de: unsupported OGR type: 5\n",
      "Skipping field reg_code: unsupported OGR type: 5\n",
      "Skipping field reg_name_fr: unsupported OGR type: 5\n",
      "Skipping field reg_name_nl: unsupported OGR type: 5\n",
      "Skipping field reg_name_de: unsupported OGR type: 5\n",
      "Skipping field reg_code: unsupported OGR type: 5\n",
      "Skipping field reg_name_fr: unsupported OGR type: 5\n",
      "Skipping field reg_name_nl: unsupported OGR type: 5\n",
      "Skipping field reg_name_de: unsupported OGR type: 5\n",
      "Skipping field reg_code: unsupported OGR type: 5\n",
      "Skipping field reg_name_fr: unsupported OGR type: 5\n",
      "Skipping field reg_name_nl: unsupported OGR type: 5\n",
      "Skipping field reg_name_de: unsupported OGR type: 5\n",
      "Skipping field reg_code: unsupported OGR type: 5\n",
      "Skipping field reg_name_fr: unsupported OGR type: 5\n",
      "Skipping field reg_name_nl: unsupported OGR type: 5\n",
      "Skipping field reg_name_de: unsupported OGR type: 5\n",
      "Skipping field reg_code: unsupported OGR type: 5\n",
      "Skipping field reg_name_fr: unsupported OGR type: 5\n",
      "Skipping field reg_name_nl: unsupported OGR type: 5\n",
      "Skipping field reg_name_de: unsupported OGR type: 5\n",
      "Skipping field reg_code: unsupported OGR type: 5\n",
      "Skipping field reg_name_fr: unsupported OGR type: 5\n",
      "Skipping field reg_name_nl: unsupported OGR type: 5\n",
      "Skipping field reg_name_de: unsupported OGR type: 5\n",
      "Skipping field reg_code: unsupported OGR type: 5\n",
      "Skipping field reg_name_fr: unsupported OGR type: 5\n",
      "Skipping field reg_name_nl: unsupported OGR type: 5\n",
      "Skipping field reg_name_de: unsupported OGR type: 5\n",
      "Skipping field reg_code: unsupported OGR type: 5\n",
      "Skipping field reg_name_fr: unsupported OGR type: 5\n",
      "Skipping field reg_name_nl: unsupported OGR type: 5\n",
      "Skipping field reg_name_de: unsupported OGR type: 5\n",
      "Skipping field reg_code: unsupported OGR type: 5\n",
      "Skipping field reg_name_fr: unsupported OGR type: 5\n",
      "Skipping field reg_name_nl: unsupported OGR type: 5\n",
      "Skipping field reg_name_de: unsupported OGR type: 5\n",
      "Skipping field reg_code: unsupported OGR type: 5\n",
      "Skipping field reg_name_fr: unsupported OGR type: 5\n",
      "Skipping field reg_name_nl: unsupported OGR type: 5\n",
      "Skipping field reg_name_de: unsupported OGR type: 5\n",
      "Skipping field reg_code: unsupported OGR type: 5\n",
      "Skipping field reg_name_fr: unsupported OGR type: 5\n",
      "Skipping field reg_name_nl: unsupported OGR type: 5\n",
      "Skipping field reg_name_de: unsupported OGR type: 5\n",
      "Skipping field reg_code: unsupported OGR type: 5\n",
      "Skipping field reg_name_fr: unsupported OGR type: 5\n",
      "Skipping field reg_name_nl: unsupported OGR type: 5\n",
      "Skipping field reg_name_de: unsupported OGR type: 5\n",
      "Skipping field reg_code: unsupported OGR type: 5\n",
      "Skipping field reg_name_fr: unsupported OGR type: 5\n",
      "Skipping field reg_name_nl: unsupported OGR type: 5\n",
      "Skipping field reg_name_de: unsupported OGR type: 5\n",
      "Skipping field reg_code: unsupported OGR type: 5\n",
      "Skipping field reg_name_fr: unsupported OGR type: 5\n",
      "Skipping field reg_name_nl: unsupported OGR type: 5\n",
      "Skipping field reg_name_de: unsupported OGR type: 5\n",
      "Skipping field reg_code: unsupported OGR type: 5\n",
      "Skipping field reg_name_fr: unsupported OGR type: 5\n",
      "Skipping field reg_name_nl: unsupported OGR type: 5\n",
      "Skipping field reg_name_de: unsupported OGR type: 5\n",
      "Skipping field reg_code: unsupported OGR type: 5\n",
      "Skipping field reg_name_fr: unsupported OGR type: 5\n",
      "Skipping field reg_name_nl: unsupported OGR type: 5\n",
      "Skipping field reg_name_de: unsupported OGR type: 5\n",
      "Skipping field reg_code: unsupported OGR type: 5\n",
      "Skipping field reg_name_fr: unsupported OGR type: 5\n",
      "Skipping field reg_name_nl: unsupported OGR type: 5\n",
      "Skipping field reg_name_de: unsupported OGR type: 5\n",
      "Skipping field reg_code: unsupported OGR type: 5\n",
      "Skipping field reg_name_fr: unsupported OGR type: 5\n",
      "Skipping field reg_name_nl: unsupported OGR type: 5\n",
      "Skipping field reg_name_de: unsupported OGR type: 5\n",
      "Skipping field reg_code: unsupported OGR type: 5\n",
      "Skipping field reg_name_fr: unsupported OGR type: 5\n",
      "Skipping field reg_name_nl: unsupported OGR type: 5\n",
      "Skipping field reg_name_de: unsupported OGR type: 5\n",
      "Skipping field reg_code: unsupported OGR type: 5\n",
      "Skipping field reg_name_fr: unsupported OGR type: 5\n",
      "Skipping field reg_name_nl: unsupported OGR type: 5\n",
      "Skipping field reg_name_de: unsupported OGR type: 5\n",
      "Skipping field reg_code: unsupported OGR type: 5\n",
      "Skipping field reg_name_fr: unsupported OGR type: 5\n",
      "Skipping field reg_name_nl: unsupported OGR type: 5\n",
      "Skipping field reg_name_de: unsupported OGR type: 5\n",
      "Skipping field reg_code: unsupported OGR type: 5\n",
      "Skipping field reg_name_fr: unsupported OGR type: 5\n",
      "Skipping field reg_name_nl: unsupported OGR type: 5\n",
      "Skipping field reg_name_de: unsupported OGR type: 5\n",
      "Skipping field reg_code: unsupported OGR type: 5\n",
      "Skipping field reg_name_fr: unsupported OGR type: 5\n",
      "Skipping field reg_name_nl: unsupported OGR type: 5\n",
      "Skipping field reg_name_de: unsupported OGR type: 5\n",
      "Skipping field reg_code: unsupported OGR type: 5\n",
      "Skipping field reg_name_fr: unsupported OGR type: 5\n",
      "Skipping field reg_name_nl: unsupported OGR type: 5\n",
      "Skipping field reg_name_de: unsupported OGR type: 5\n",
      "Skipping field reg_code: unsupported OGR type: 5\n",
      "Skipping field reg_name_fr: unsupported OGR type: 5\n",
      "Skipping field reg_name_nl: unsupported OGR type: 5\n",
      "Skipping field reg_name_de: unsupported OGR type: 5\n",
      "Skipping field reg_code: unsupported OGR type: 5\n",
      "Skipping field reg_name_fr: unsupported OGR type: 5\n",
      "Skipping field reg_name_nl: unsupported OGR type: 5\n",
      "Skipping field reg_name_de: unsupported OGR type: 5\n",
      "Skipping field reg_code: unsupported OGR type: 5\n",
      "Skipping field reg_name_fr: unsupported OGR type: 5\n",
      "Skipping field reg_name_nl: unsupported OGR type: 5\n",
      "Skipping field reg_name_de: unsupported OGR type: 5\n",
      "Skipping field reg_code: unsupported OGR type: 5\n",
      "Skipping field reg_name_fr: unsupported OGR type: 5\n",
      "Skipping field reg_name_nl: unsupported OGR type: 5\n",
      "Skipping field reg_name_de: unsupported OGR type: 5\n",
      "Skipping field reg_code: unsupported OGR type: 5\n",
      "Skipping field reg_name_fr: unsupported OGR type: 5\n",
      "Skipping field reg_name_nl: unsupported OGR type: 5\n",
      "Skipping field reg_name_de: unsupported OGR type: 5\n",
      "Skipping field reg_code: unsupported OGR type: 5\n",
      "Skipping field reg_name_fr: unsupported OGR type: 5\n",
      "Skipping field reg_name_nl: unsupported OGR type: 5\n",
      "Skipping field reg_name_de: unsupported OGR type: 5\n",
      "Skipping field reg_code: unsupported OGR type: 5\n",
      "Skipping field reg_name_fr: unsupported OGR type: 5\n",
      "Skipping field reg_name_nl: unsupported OGR type: 5\n",
      "Skipping field reg_name_de: unsupported OGR type: 5\n",
      "Skipping field reg_code: unsupported OGR type: 5\n",
      "Skipping field reg_name_fr: unsupported OGR type: 5\n",
      "Skipping field reg_name_nl: unsupported OGR type: 5\n",
      "Skipping field reg_name_de: unsupported OGR type: 5\n",
      "Skipping field reg_code: unsupported OGR type: 5\n",
      "Skipping field reg_name_fr: unsupported OGR type: 5\n",
      "Skipping field reg_name_nl: unsupported OGR type: 5\n",
      "Skipping field reg_name_de: unsupported OGR type: 5\n",
      "Skipping field reg_code: unsupported OGR type: 5\n",
      "Skipping field reg_name_fr: unsupported OGR type: 5\n",
      "Skipping field reg_name_nl: unsupported OGR type: 5\n",
      "Skipping field reg_name_de: unsupported OGR type: 5\n",
      "Skipping field reg_code: unsupported OGR type: 5\n",
      "Skipping field reg_name_fr: unsupported OGR type: 5\n",
      "Skipping field reg_name_nl: unsupported OGR type: 5\n",
      "Skipping field reg_name_de: unsupported OGR type: 5\n",
      "Skipping field reg_code: unsupported OGR type: 5\n",
      "Skipping field reg_name_fr: unsupported OGR type: 5\n",
      "Skipping field reg_name_nl: unsupported OGR type: 5\n",
      "Skipping field reg_name_de: unsupported OGR type: 5\n",
      "Skipping field reg_code: unsupported OGR type: 5\n",
      "Skipping field reg_name_fr: unsupported OGR type: 5\n",
      "Skipping field reg_name_nl: unsupported OGR type: 5\n",
      "Skipping field reg_name_de: unsupported OGR type: 5\n",
      "Skipping field reg_code: unsupported OGR type: 5\n",
      "Skipping field reg_name_fr: unsupported OGR type: 5\n",
      "Skipping field reg_name_nl: unsupported OGR type: 5\n",
      "Skipping field reg_name_de: unsupported OGR type: 5\n",
      "Skipping field reg_code: unsupported OGR type: 5\n",
      "Skipping field reg_name_fr: unsupported OGR type: 5\n",
      "Skipping field reg_name_nl: unsupported OGR type: 5\n",
      "Skipping field reg_name_de: unsupported OGR type: 5\n",
      "Skipping field reg_code: unsupported OGR type: 5\n",
      "Skipping field reg_name_fr: unsupported OGR type: 5\n",
      "Skipping field reg_name_nl: unsupported OGR type: 5\n",
      "Skipping field reg_name_de: unsupported OGR type: 5\n",
      "Skipping field reg_code: unsupported OGR type: 5\n",
      "Skipping field reg_name_fr: unsupported OGR type: 5\n",
      "Skipping field reg_name_nl: unsupported OGR type: 5\n",
      "Skipping field reg_name_de: unsupported OGR type: 5\n",
      "Skipping field reg_code: unsupported OGR type: 5\n",
      "Skipping field reg_name_fr: unsupported OGR type: 5\n",
      "Skipping field reg_name_nl: unsupported OGR type: 5\n",
      "Skipping field reg_name_de: unsupported OGR type: 5\n",
      "Skipping field reg_code: unsupported OGR type: 5\n",
      "Skipping field reg_name_fr: unsupported OGR type: 5\n",
      "Skipping field reg_name_nl: unsupported OGR type: 5\n",
      "Skipping field reg_name_de: unsupported OGR type: 5\n",
      "Skipping field reg_code: unsupported OGR type: 5\n",
      "Skipping field reg_name_fr: unsupported OGR type: 5\n",
      "Skipping field reg_name_nl: unsupported OGR type: 5\n",
      "Skipping field reg_name_de: unsupported OGR type: 5\n",
      "Skipping field reg_code: unsupported OGR type: 5\n",
      "Skipping field reg_name_fr: unsupported OGR type: 5\n",
      "Skipping field reg_name_nl: unsupported OGR type: 5\n",
      "Skipping field reg_name_de: unsupported OGR type: 5\n",
      "Skipping field reg_code: unsupported OGR type: 5\n",
      "Skipping field reg_name_fr: unsupported OGR type: 5\n",
      "Skipping field reg_name_nl: unsupported OGR type: 5\n",
      "Skipping field reg_name_de: unsupported OGR type: 5\n",
      "Skipping field reg_code: unsupported OGR type: 5\n",
      "Skipping field reg_name_fr: unsupported OGR type: 5\n",
      "Skipping field reg_name_nl: unsupported OGR type: 5\n",
      "Skipping field reg_name_de: unsupported OGR type: 5\n",
      "Skipping field reg_code: unsupported OGR type: 5\n",
      "Skipping field reg_name_fr: unsupported OGR type: 5\n",
      "Skipping field reg_name_nl: unsupported OGR type: 5\n",
      "Skipping field reg_name_de: unsupported OGR type: 5\n"
     ]
    },
    {
     "data": {
      "text/html": [
       "<div>\n",
       "<style scoped>\n",
       "    .dataframe tbody tr th:only-of-type {\n",
       "        vertical-align: middle;\n",
       "    }\n",
       "\n",
       "    .dataframe tbody tr th {\n",
       "        vertical-align: top;\n",
       "    }\n",
       "\n",
       "    .dataframe thead th {\n",
       "        text-align: right;\n",
       "    }\n",
       "</style>\n",
       "<table border=\"1\" class=\"dataframe\">\n",
       "  <thead>\n",
       "    <tr style=\"text-align: right;\">\n",
       "      <th></th>\n",
       "      <th>station_id</th>\n",
       "      <th>station_label</th>\n",
       "      <th>station_longitude</th>\n",
       "      <th>station_latitude</th>\n",
       "      <th>station_city</th>\n",
       "    </tr>\n",
       "  </thead>\n",
       "  <tbody>\n",
       "    <tr>\n",
       "      <th>0</th>\n",
       "      <td>1031</td>\n",
       "      <td>40AL02 - Beveren</td>\n",
       "      <td>4.234833</td>\n",
       "      <td>51.304521</td>\n",
       "      <td>Beveren</td>\n",
       "    </tr>\n",
       "    <tr>\n",
       "      <th>1</th>\n",
       "      <td>1032</td>\n",
       "      <td>40AL03 - Beveren</td>\n",
       "      <td>4.201460</td>\n",
       "      <td>51.253965</td>\n",
       "      <td>Beveren</td>\n",
       "    </tr>\n",
       "    <tr>\n",
       "      <th>2</th>\n",
       "      <td>1033</td>\n",
       "      <td>40AL04 - Beveren</td>\n",
       "      <td>4.293329</td>\n",
       "      <td>51.290668</td>\n",
       "      <td>Beveren</td>\n",
       "    </tr>\n",
       "    <tr>\n",
       "      <th>3</th>\n",
       "      <td>1034</td>\n",
       "      <td>40AL05 - Beveren</td>\n",
       "      <td>4.278890</td>\n",
       "      <td>51.263118</td>\n",
       "      <td>Beveren</td>\n",
       "    </tr>\n",
       "    <tr>\n",
       "      <th>4</th>\n",
       "      <td>1774</td>\n",
       "      <td>40AT83 - BERENDRECHT</td>\n",
       "      <td>4.304989</td>\n",
       "      <td>51.339803</td>\n",
       "      <td>Berendrecht</td>\n",
       "    </tr>\n",
       "    <tr>\n",
       "      <th>...</th>\n",
       "      <td>...</td>\n",
       "      <td>...</td>\n",
       "      <td>...</td>\n",
       "      <td>...</td>\n",
       "      <td>...</td>\n",
       "    </tr>\n",
       "    <tr>\n",
       "      <th>94</th>\n",
       "      <td>1760</td>\n",
       "      <td>FLM3M3 - Antwerpen (3M - Fence Line ZO)</td>\n",
       "      <td>4.340936</td>\n",
       "      <td>51.229160</td>\n",
       "      <td>Antwerpen</td>\n",
       "    </tr>\n",
       "    <tr>\n",
       "      <th>95</th>\n",
       "      <td>1761</td>\n",
       "      <td>FLM3M4 - Antwerpen (3M - Fence Line Z)</td>\n",
       "      <td>4.335160</td>\n",
       "      <td>51.229270</td>\n",
       "      <td>Antwerpen</td>\n",
       "    </tr>\n",
       "    <tr>\n",
       "      <th>96</th>\n",
       "      <td>1762</td>\n",
       "      <td>FLM3M5 - Antwerpen (3M - Fence Line ZW)</td>\n",
       "      <td>4.329620</td>\n",
       "      <td>51.230220</td>\n",
       "      <td>Antwerpen</td>\n",
       "    </tr>\n",
       "    <tr>\n",
       "      <th>97</th>\n",
       "      <td>1763</td>\n",
       "      <td>FLM3M6 - Antwerpen (3M - Fence Line W)</td>\n",
       "      <td>4.326684</td>\n",
       "      <td>51.232600</td>\n",
       "      <td>Antwerpen</td>\n",
       "    </tr>\n",
       "    <tr>\n",
       "      <th>98</th>\n",
       "      <td>1725</td>\n",
       "      <td>T2H801 - Zwijndrecht</td>\n",
       "      <td>4.333960</td>\n",
       "      <td>51.243741</td>\n",
       "      <td>Zwijndrecht</td>\n",
       "    </tr>\n",
       "  </tbody>\n",
       "</table>\n",
       "<p>99 rows × 5 columns</p>\n",
       "</div>"
      ],
      "text/plain": [
       "    station_id                            station_label  station_longitude  \\\n",
       "0         1031                         40AL02 - Beveren           4.234833   \n",
       "1         1032                         40AL03 - Beveren           4.201460   \n",
       "2         1033                         40AL04 - Beveren           4.293329   \n",
       "3         1034                         40AL05 - Beveren           4.278890   \n",
       "4         1774                     40AT83 - BERENDRECHT           4.304989   \n",
       "..         ...                                      ...                ...   \n",
       "94        1760  FLM3M3 - Antwerpen (3M - Fence Line ZO)           4.340936   \n",
       "95        1761   FLM3M4 - Antwerpen (3M - Fence Line Z)           4.335160   \n",
       "96        1762  FLM3M5 - Antwerpen (3M - Fence Line ZW)           4.329620   \n",
       "97        1763   FLM3M6 - Antwerpen (3M - Fence Line W)           4.326684   \n",
       "98        1725                     T2H801 - Zwijndrecht           4.333960   \n",
       "\n",
       "    station_latitude station_city  \n",
       "0          51.304521      Beveren  \n",
       "1          51.253965      Beveren  \n",
       "2          51.290668      Beveren  \n",
       "3          51.263118      Beveren  \n",
       "4          51.339803  Berendrecht  \n",
       "..               ...          ...  \n",
       "94         51.229160    Antwerpen  \n",
       "95         51.229270    Antwerpen  \n",
       "96         51.230220    Antwerpen  \n",
       "97         51.232600    Antwerpen  \n",
       "98         51.243741  Zwijndrecht  \n",
       "\n",
       "[99 rows x 5 columns]"
      ]
     },
     "execution_count": 7,
     "metadata": {},
     "output_type": "execute_result"
    }
   ],
   "source": [
    "get_and_parse_station_data(stations_url)"
   ]
  },
  {
   "cell_type": "markdown",
   "id": "681f085f",
   "metadata": {},
   "source": [
    "## Time series data"
   ]
  },
  {
   "cell_type": "code",
   "execution_count": null,
   "id": "21d4fbed",
   "metadata": {
    "ExecuteTime": {
     "end_time": "2025-07-29T16:34:02.381489Z",
     "start_time": "2025-07-29T16:34:02.370780Z"
    }
   },
   "outputs": [],
   "source": [
    "def extract_pollutant_label(label: str) -> bool:\n",
    "    target_pollutants_dict = {\n",
    "        \"pm10\": \"pm10\",\n",
    "        \"10 µm\": \"pm10\",\n",
    "        \"2.5 µm\": \"ppm25\",\n",
    "        \"nitrogen dioxide\": \"no2\",\n",
    "        \"carbon dioxide\": \"co2\",\n",
    "        \"sulphur dioxide\": \"so2\",\n",
    "    }\n",
    "\n",
    "    # Can also be based on this mapping https://geo.irceline.be/sos/api/v1/phenomena\n",
    "    label_lower = label.lower()\n",
    "    for p in list(target_pollutants_dict.keys()):\n",
    "        if p in label_lower:\n",
    "            return target_pollutants_dict.get(p)\n",
    "    return None\n",
    "\n",
    "\n",
    "def timestamp_to_str(timestamp: str) -> str:\n",
    "    return datetime.datetime.fromtimestamp(int(timestamp) / 1000, datetime.UTC).strftime('%Y-%m-%d %H:%M:%S')\n",
    "\n",
    "\n",
    "def fetch_timeseries_details(timeseries_id: int, time_series_url: str) -> pd.DataFrame:\n",
    "    ts_details_url = f\"{time_series_url}/{timeseries_id}\"\n",
    "\n",
    "    try:\n",
    "        timeseries_details_raw = fetch_url(ts_details_url)\n",
    "        first = timeseries_details_raw.get(\"firstValue\", {})\n",
    "        last = timeseries_details_raw.get(\"lastValue\", {})\n",
    "        return {\n",
    "            \"timeseries_id\": timeseries_id,\n",
    "            \"first_value\": first.get(\"value\"),\n",
    "            \"first_timestamp\": timestamp_to_str(first.get(\"timestamp\")),\n",
    "            \"last_value\": last.get(\"value\"),\n",
    "            \"last_timestamp\": timestamp_to_str(last.get(\"timestamp\"))\n",
    "        }\n",
    "\n",
    "    except Exception as e:\n",
    "        print(f\"Error fetching details for ID {timeseries_id}: {e}\")\n",
    "        return {\n",
    "            \"timeseries_id\": timeseries_id,\n",
    "            \"first_value\": None,\n",
    "            \"first_timestamp\": None,\n",
    "            \"last_value\": None,\n",
    "            \"last_timestamp\": None\n",
    "        }\n",
    "\n",
    "    \n",
    "def add_timeseries_details(timeseries_pd: pd.DataFrame, time_series_url: str) -> pd.DataFrame:\n",
    "    ts_details = []\n",
    "    for ts_id in timeseries_pd[\"timeseries_id\"]:\n",
    "        ts_details.append(fetch_timeseries_details(ts_id, time_series_url))\n",
    "    \n",
    "    ts_details_pd = pd.DataFrame(ts_details)\n",
    "    return pd.merge(timeseries_pd, ts_details_pd, on=\"timeseries_id\", how=\"left\")\n",
    "\n",
    "        \n",
    "def get_and_parse_timeseries_data(time_series_url: str) -> pd.DataFrame:\n",
    "    timeseries_raw = fetch_url(time_series_url)\n",
    "    \n",
    "    records = []\n",
    "    for ts in timeseries_raw:\n",
    "        station_id = ts.get(\"station\", {}).get(\"properties\", {}).get(\"id\")\n",
    "        pollutant_parameter = extract_pollutant_label(ts.get(\"label\", \"\"))\n",
    "\n",
    "        if pollutant_parameter is None:\n",
    "            continue\n",
    "\n",
    "        records.append({\n",
    "            \"timeseries_id\": ts.get(\"id\"),\n",
    "            \"pollution_label\": ts.get(\"label\"),\n",
    "            \"pollutant_parameter\": pollutant_parameter,\n",
    "            \"uom\": ts.get(\"uom\"),\n",
    "            \"station_id\": station_id,\n",
    "        })\n",
    "    timeseries_pd = pd.DataFrame(records)\n",
    "    return add_timeseries_details(timeseries_pd, time_series_url)\n",
    "\n",
    "# Adding the details might not be required actually. Perhaps only for the 1st question to answer as most have recent datapoints"
   ]
  },
  {
   "cell_type": "code",
   "execution_count": 10,
   "id": "06a29bed",
   "metadata": {
    "ExecuteTime": {
     "end_time": "2025-07-29T14:44:15.798005Z",
     "start_time": "2025-07-29T14:43:35.931222Z"
    },
    "scrolled": true
   },
   "outputs": [
    {
     "data": {
      "text/html": [
       "<div>\n",
       "<style scoped>\n",
       "    .dataframe tbody tr th:only-of-type {\n",
       "        vertical-align: middle;\n",
       "    }\n",
       "\n",
       "    .dataframe tbody tr th {\n",
       "        vertical-align: top;\n",
       "    }\n",
       "\n",
       "    .dataframe thead th {\n",
       "        text-align: right;\n",
       "    }\n",
       "</style>\n",
       "<table border=\"1\" class=\"dataframe\">\n",
       "  <thead>\n",
       "    <tr style=\"text-align: right;\">\n",
       "      <th></th>\n",
       "      <th>timeseries_id</th>\n",
       "      <th>pollution_label</th>\n",
       "      <th>pollutant_parameter</th>\n",
       "      <th>uom</th>\n",
       "      <th>station_id</th>\n",
       "      <th>first_value</th>\n",
       "      <th>first_timestamp</th>\n",
       "      <th>last_value</th>\n",
       "      <th>last_timestamp</th>\n",
       "    </tr>\n",
       "  </thead>\n",
       "  <tbody>\n",
       "    <tr>\n",
       "      <th>0</th>\n",
       "      <td>6612</td>\n",
       "      <td>Carbon Dioxide 6612 - This model 41H - procedu...</td>\n",
       "      <td>co2</td>\n",
       "      <td>ppm</td>\n",
       "      <td>1119</td>\n",
       "      <td>416.0</td>\n",
       "      <td>2012-05-29 01:00:00</td>\n",
       "      <td>423.0</td>\n",
       "      <td>2021-06-16 10:00:00</td>\n",
       "    </tr>\n",
       "    <tr>\n",
       "      <th>1</th>\n",
       "      <td>6619</td>\n",
       "      <td>Carbon Dioxide 6619 - This model 41H - procedu...</td>\n",
       "      <td>co2</td>\n",
       "      <td>ppm</td>\n",
       "      <td>1122</td>\n",
       "      <td>417.0</td>\n",
       "      <td>2012-05-29 01:00:00</td>\n",
       "      <td>417.0</td>\n",
       "      <td>2022-01-20 10:00:00</td>\n",
       "    </tr>\n",
       "    <tr>\n",
       "      <th>2</th>\n",
       "      <td>100019</td>\n",
       "      <td>Nitrogen dioxide 100019 -  - procedure, 42R842...</td>\n",
       "      <td>no2</td>\n",
       "      <td>µg/m³</td>\n",
       "      <td>1744</td>\n",
       "      <td>18.5</td>\n",
       "      <td>2020-08-04 01:00:00</td>\n",
       "      <td>13.5</td>\n",
       "      <td>2025-07-29 14:00:00</td>\n",
       "    </tr>\n",
       "    <tr>\n",
       "      <th>3</th>\n",
       "      <td>100026</td>\n",
       "      <td>Nitrogen dioxide 100026 - THIS 42C - procedure...</td>\n",
       "      <td>no2</td>\n",
       "      <td>µg/m³</td>\n",
       "      <td>1740</td>\n",
       "      <td>12.5</td>\n",
       "      <td>2021-06-11 01:00:00</td>\n",
       "      <td>21.5</td>\n",
       "      <td>2024-10-29 08:00:00</td>\n",
       "    </tr>\n",
       "    <tr>\n",
       "      <th>4</th>\n",
       "      <td>100032</td>\n",
       "      <td>Nitrogen dioxide 100032 - vanaf 970317 AC-31M ...</td>\n",
       "      <td>no2</td>\n",
       "      <td>µg/m³</td>\n",
       "      <td>1741</td>\n",
       "      <td>26.0</td>\n",
       "      <td>2021-09-18 01:00:00</td>\n",
       "      <td>34.5</td>\n",
       "      <td>2025-07-29 14:00:00</td>\n",
       "    </tr>\n",
       "    <tr>\n",
       "      <th>...</th>\n",
       "      <td>...</td>\n",
       "      <td>...</td>\n",
       "      <td>...</td>\n",
       "      <td>...</td>\n",
       "      <td>...</td>\n",
       "      <td>...</td>\n",
       "      <td>...</td>\n",
       "      <td>...</td>\n",
       "      <td>...</td>\n",
       "    </tr>\n",
       "    <tr>\n",
       "      <th>299</th>\n",
       "      <td>7120</td>\n",
       "      <td>Sulphur dioxide 7120 - ENVIRONNEMENT AF21M - p...</td>\n",
       "      <td>so2</td>\n",
       "      <td>µg/m³</td>\n",
       "      <td>1214</td>\n",
       "      <td>1.0</td>\n",
       "      <td>2012-05-31 01:00:00</td>\n",
       "      <td>22.0</td>\n",
       "      <td>2020-01-17 08:00:00</td>\n",
       "    </tr>\n",
       "    <tr>\n",
       "      <th>300</th>\n",
       "      <td>7130</td>\n",
       "      <td>Sulphur dioxide 7130 - MELOY SA - procedure, 4...</td>\n",
       "      <td>so2</td>\n",
       "      <td>µg/m³</td>\n",
       "      <td>1217</td>\n",
       "      <td>0.0</td>\n",
       "      <td>2012-05-31 01:00:00</td>\n",
       "      <td>4.0</td>\n",
       "      <td>2013-03-04 13:00:00</td>\n",
       "    </tr>\n",
       "    <tr>\n",
       "      <th>301</th>\n",
       "      <td>7147</td>\n",
       "      <td>Sulphur dioxide 7147 - MELOY SA - procedure, 4...</td>\n",
       "      <td>so2</td>\n",
       "      <td>µg/m³</td>\n",
       "      <td>1219</td>\n",
       "      <td>0.0</td>\n",
       "      <td>2012-05-31 01:00:00</td>\n",
       "      <td>0.0</td>\n",
       "      <td>2025-07-29 14:00:00</td>\n",
       "    </tr>\n",
       "    <tr>\n",
       "      <th>302</th>\n",
       "      <td>7158</td>\n",
       "      <td>Sulphur dioxide 7158 - MELOY SA - procedure, 4...</td>\n",
       "      <td>so2</td>\n",
       "      <td>µg/m³</td>\n",
       "      <td>1221</td>\n",
       "      <td>3.0</td>\n",
       "      <td>2012-05-31 01:00:00</td>\n",
       "      <td>0.0</td>\n",
       "      <td>2025-07-29 14:00:00</td>\n",
       "    </tr>\n",
       "    <tr>\n",
       "      <th>303</th>\n",
       "      <td>7193</td>\n",
       "      <td>Sulphur dioxide 7193 - Unknown device - proced...</td>\n",
       "      <td>so2</td>\n",
       "      <td>µg/m³</td>\n",
       "      <td>1237</td>\n",
       "      <td>1.0</td>\n",
       "      <td>2012-05-31 01:00:00</td>\n",
       "      <td>4.0</td>\n",
       "      <td>2016-01-07 00:00:00</td>\n",
       "    </tr>\n",
       "  </tbody>\n",
       "</table>\n",
       "<p>304 rows × 9 columns</p>\n",
       "</div>"
      ],
      "text/plain": [
       "    timeseries_id                                    pollution_label  \\\n",
       "0            6612  Carbon Dioxide 6612 - This model 41H - procedu...   \n",
       "1            6619  Carbon Dioxide 6619 - This model 41H - procedu...   \n",
       "2          100019  Nitrogen dioxide 100019 -  - procedure, 42R842...   \n",
       "3          100026  Nitrogen dioxide 100026 - THIS 42C - procedure...   \n",
       "4          100032  Nitrogen dioxide 100032 - vanaf 970317 AC-31M ...   \n",
       "..            ...                                                ...   \n",
       "299          7120  Sulphur dioxide 7120 - ENVIRONNEMENT AF21M - p...   \n",
       "300          7130  Sulphur dioxide 7130 - MELOY SA - procedure, 4...   \n",
       "301          7147  Sulphur dioxide 7147 - MELOY SA - procedure, 4...   \n",
       "302          7158  Sulphur dioxide 7158 - MELOY SA - procedure, 4...   \n",
       "303          7193  Sulphur dioxide 7193 - Unknown device - proced...   \n",
       "\n",
       "    pollutant_parameter    uom  station_id  first_value      first_timestamp  \\\n",
       "0                   co2    ppm        1119        416.0  2012-05-29 01:00:00   \n",
       "1                   co2    ppm        1122        417.0  2012-05-29 01:00:00   \n",
       "2                   no2  µg/m³        1744         18.5  2020-08-04 01:00:00   \n",
       "3                   no2  µg/m³        1740         12.5  2021-06-11 01:00:00   \n",
       "4                   no2  µg/m³        1741         26.0  2021-09-18 01:00:00   \n",
       "..                  ...    ...         ...          ...                  ...   \n",
       "299                 so2  µg/m³        1214          1.0  2012-05-31 01:00:00   \n",
       "300                 so2  µg/m³        1217          0.0  2012-05-31 01:00:00   \n",
       "301                 so2  µg/m³        1219          0.0  2012-05-31 01:00:00   \n",
       "302                 so2  µg/m³        1221          3.0  2012-05-31 01:00:00   \n",
       "303                 so2  µg/m³        1237          1.0  2012-05-31 01:00:00   \n",
       "\n",
       "     last_value       last_timestamp  \n",
       "0         423.0  2021-06-16 10:00:00  \n",
       "1         417.0  2022-01-20 10:00:00  \n",
       "2          13.5  2025-07-29 14:00:00  \n",
       "3          21.5  2024-10-29 08:00:00  \n",
       "4          34.5  2025-07-29 14:00:00  \n",
       "..          ...                  ...  \n",
       "299        22.0  2020-01-17 08:00:00  \n",
       "300         4.0  2013-03-04 13:00:00  \n",
       "301         0.0  2025-07-29 14:00:00  \n",
       "302         0.0  2025-07-29 14:00:00  \n",
       "303         4.0  2016-01-07 00:00:00  \n",
       "\n",
       "[304 rows x 9 columns]"
      ]
     },
     "execution_count": 10,
     "metadata": {},
     "output_type": "execute_result"
    }
   ],
   "source": [
    "get_and_parse_timeseries_data(time_series_url)"
   ]
  },
  {
   "cell_type": "code",
   "execution_count": null,
   "id": "4b7d8609",
   "metadata": {},
   "outputs": [],
   "source": []
  },
  {
   "cell_type": "markdown",
   "id": "5ef1b78c",
   "metadata": {},
   "source": [
    "## Hourly data"
   ]
  },
  {
   "cell_type": "code",
   "execution_count": null,
   "id": "c07d9256",
   "metadata": {},
   "outputs": [],
   "source": [
    "def get_and_parse_timeseries_hourly_data(ts_id: int, start_date: str, end_date: str) -> pd.DataFrame:\n",
    "    time_series_hourly_url = f\"https://geo.irceline.be/sos/api/v1/timeseries/{ts_id}/getData?timespan={start_date}TZ/{end_date}TZ\"\n",
    "    timeseries_hourly_raw = fetch_url(time_series_hourly_url)\n",
    "    \n",
    "    hourly_ts_pd = pd.DataFrame(timeseries_hourly_raw['values'])\n",
    "    hourly_ts_pd['timestamp'] = pd.to_datetime(hourly_ts_pd['timestamp'], unit='ms')\n",
    "    hourly_ts_pd['timeseries_id'] = ts_id\n",
    "\n",
    "    return hourly_ts_pd.rename(columns={'timestamp': 'datetime', 'value': 'pollution_value'})[[\"timeseries_id\", \"datetime\", \"pollution_value\"]]\n"
   ]
  },
  {
   "cell_type": "code",
   "execution_count": 29,
   "id": "83c3a594",
   "metadata": {},
   "outputs": [
    {
     "data": {
      "text/html": [
       "<div>\n",
       "<style scoped>\n",
       "    .dataframe tbody tr th:only-of-type {\n",
       "        vertical-align: middle;\n",
       "    }\n",
       "\n",
       "    .dataframe tbody tr th {\n",
       "        vertical-align: top;\n",
       "    }\n",
       "\n",
       "    .dataframe thead th {\n",
       "        text-align: right;\n",
       "    }\n",
       "</style>\n",
       "<table border=\"1\" class=\"dataframe\">\n",
       "  <thead>\n",
       "    <tr style=\"text-align: right;\">\n",
       "      <th></th>\n",
       "      <th>timeseries_id</th>\n",
       "      <th>datetime</th>\n",
       "      <th>pollution_value</th>\n",
       "    </tr>\n",
       "  </thead>\n",
       "  <tbody>\n",
       "    <tr>\n",
       "      <th>0</th>\n",
       "      <td>6612</td>\n",
       "      <td>2021-06-01 00:00:00</td>\n",
       "      <td>433.5</td>\n",
       "    </tr>\n",
       "    <tr>\n",
       "      <th>1</th>\n",
       "      <td>6612</td>\n",
       "      <td>2021-06-01 01:00:00</td>\n",
       "      <td>438.0</td>\n",
       "    </tr>\n",
       "    <tr>\n",
       "      <th>2</th>\n",
       "      <td>6612</td>\n",
       "      <td>2021-06-01 02:00:00</td>\n",
       "      <td>444.0</td>\n",
       "    </tr>\n",
       "    <tr>\n",
       "      <th>3</th>\n",
       "      <td>6612</td>\n",
       "      <td>2021-06-01 03:00:00</td>\n",
       "      <td>450.0</td>\n",
       "    </tr>\n",
       "    <tr>\n",
       "      <th>4</th>\n",
       "      <td>6612</td>\n",
       "      <td>2021-06-01 04:00:00</td>\n",
       "      <td>456.0</td>\n",
       "    </tr>\n",
       "  </tbody>\n",
       "</table>\n",
       "</div>"
      ],
      "text/plain": [
       "  timeseries_id            datetime  pollution_value\n",
       "0          6612 2021-06-01 00:00:00            433.5\n",
       "1          6612 2021-06-01 01:00:00            438.0\n",
       "2          6612 2021-06-01 02:00:00            444.0\n",
       "3          6612 2021-06-01 03:00:00            450.0\n",
       "4          6612 2021-06-01 04:00:00            456.0"
      ]
     },
     "execution_count": 29,
     "metadata": {},
     "output_type": "execute_result"
    }
   ],
   "source": [
    "start_date = \"2021-06-01\"\n",
    "end_date = \"2021-06-16\"\n",
    "timeseries_id = \"6612\"\n",
    "\n",
    "get_and_parse_timeseries_hourly_data(timeseries_id, start_date, end_date).head()"
   ]
  },
  {
   "cell_type": "markdown",
   "id": "bdbcaefb",
   "metadata": {},
   "source": [
    "# Analyse the data"
   ]
  },
  {
   "cell_type": "markdown",
   "id": "5807f6de",
   "metadata": {},
   "source": [
    "## Stations data\n",
    "- ID / Label all unique?? --> Yes\n",
    "- Geometry always the same format? z-coordinate always 'NaN'?? --> Yes\n",
    "- Locations all in Flanders??  --> In the whole of Belgium\n",
    "- Type of geometry always 'Point'? --> Yes\n",
    "- Type of entry always 'Feature'? --> Yes"
   ]
  },
  {
   "cell_type": "code",
   "execution_count": 30,
   "id": "f022615c",
   "metadata": {
    "ExecuteTime": {
     "end_time": "2025-07-29T16:25:42.985126Z",
     "start_time": "2025-07-29T16:25:38.856862Z"
    }
   },
   "outputs": [
    {
     "name": "stderr",
     "output_type": "stream",
     "text": [
      "Skipping field reg_code: unsupported OGR type: 5\n",
      "Skipping field reg_name_fr: unsupported OGR type: 5\n",
      "Skipping field reg_name_nl: unsupported OGR type: 5\n",
      "Skipping field reg_name_de: unsupported OGR type: 5\n",
      "Skipping field reg_code: unsupported OGR type: 5\n",
      "Skipping field reg_name_fr: unsupported OGR type: 5\n",
      "Skipping field reg_name_nl: unsupported OGR type: 5\n",
      "Skipping field reg_name_de: unsupported OGR type: 5\n",
      "Skipping field reg_code: unsupported OGR type: 5\n",
      "Skipping field reg_name_fr: unsupported OGR type: 5\n",
      "Skipping field reg_name_nl: unsupported OGR type: 5\n",
      "Skipping field reg_name_de: unsupported OGR type: 5\n",
      "Skipping field reg_code: unsupported OGR type: 5\n",
      "Skipping field reg_name_fr: unsupported OGR type: 5\n",
      "Skipping field reg_name_nl: unsupported OGR type: 5\n",
      "Skipping field reg_name_de: unsupported OGR type: 5\n",
      "Skipping field reg_code: unsupported OGR type: 5\n",
      "Skipping field reg_name_fr: unsupported OGR type: 5\n",
      "Skipping field reg_name_nl: unsupported OGR type: 5\n",
      "Skipping field reg_name_de: unsupported OGR type: 5\n",
      "Skipping field reg_code: unsupported OGR type: 5\n",
      "Skipping field reg_name_fr: unsupported OGR type: 5\n",
      "Skipping field reg_name_nl: unsupported OGR type: 5\n",
      "Skipping field reg_name_de: unsupported OGR type: 5\n",
      "Skipping field reg_code: unsupported OGR type: 5\n",
      "Skipping field reg_name_fr: unsupported OGR type: 5\n",
      "Skipping field reg_name_nl: unsupported OGR type: 5\n",
      "Skipping field reg_name_de: unsupported OGR type: 5\n",
      "Skipping field reg_code: unsupported OGR type: 5\n",
      "Skipping field reg_name_fr: unsupported OGR type: 5\n",
      "Skipping field reg_name_nl: unsupported OGR type: 5\n",
      "Skipping field reg_name_de: unsupported OGR type: 5\n",
      "Skipping field reg_code: unsupported OGR type: 5\n",
      "Skipping field reg_name_fr: unsupported OGR type: 5\n",
      "Skipping field reg_name_nl: unsupported OGR type: 5\n",
      "Skipping field reg_name_de: unsupported OGR type: 5\n",
      "Skipping field reg_code: unsupported OGR type: 5\n",
      "Skipping field reg_name_fr: unsupported OGR type: 5\n",
      "Skipping field reg_name_nl: unsupported OGR type: 5\n",
      "Skipping field reg_name_de: unsupported OGR type: 5\n",
      "Skipping field reg_code: unsupported OGR type: 5\n",
      "Skipping field reg_name_fr: unsupported OGR type: 5\n",
      "Skipping field reg_name_nl: unsupported OGR type: 5\n",
      "Skipping field reg_name_de: unsupported OGR type: 5\n",
      "Skipping field reg_code: unsupported OGR type: 5\n",
      "Skipping field reg_name_fr: unsupported OGR type: 5\n",
      "Skipping field reg_name_nl: unsupported OGR type: 5\n",
      "Skipping field reg_name_de: unsupported OGR type: 5\n",
      "Skipping field reg_code: unsupported OGR type: 5\n",
      "Skipping field reg_name_fr: unsupported OGR type: 5\n",
      "Skipping field reg_name_nl: unsupported OGR type: 5\n",
      "Skipping field reg_name_de: unsupported OGR type: 5\n",
      "Skipping field reg_code: unsupported OGR type: 5\n",
      "Skipping field reg_name_fr: unsupported OGR type: 5\n",
      "Skipping field reg_name_nl: unsupported OGR type: 5\n",
      "Skipping field reg_name_de: unsupported OGR type: 5\n",
      "Skipping field reg_code: unsupported OGR type: 5\n",
      "Skipping field reg_name_fr: unsupported OGR type: 5\n",
      "Skipping field reg_name_nl: unsupported OGR type: 5\n",
      "Skipping field reg_name_de: unsupported OGR type: 5\n",
      "Skipping field reg_code: unsupported OGR type: 5\n",
      "Skipping field reg_name_fr: unsupported OGR type: 5\n",
      "Skipping field reg_name_nl: unsupported OGR type: 5\n",
      "Skipping field reg_name_de: unsupported OGR type: 5\n",
      "Skipping field reg_code: unsupported OGR type: 5\n",
      "Skipping field reg_name_fr: unsupported OGR type: 5\n",
      "Skipping field reg_name_nl: unsupported OGR type: 5\n",
      "Skipping field reg_name_de: unsupported OGR type: 5\n",
      "Skipping field reg_code: unsupported OGR type: 5\n",
      "Skipping field reg_name_fr: unsupported OGR type: 5\n",
      "Skipping field reg_name_nl: unsupported OGR type: 5\n",
      "Skipping field reg_name_de: unsupported OGR type: 5\n",
      "Skipping field reg_code: unsupported OGR type: 5\n",
      "Skipping field reg_name_fr: unsupported OGR type: 5\n",
      "Skipping field reg_name_nl: unsupported OGR type: 5\n",
      "Skipping field reg_name_de: unsupported OGR type: 5\n",
      "Skipping field reg_code: unsupported OGR type: 5\n",
      "Skipping field reg_name_fr: unsupported OGR type: 5\n",
      "Skipping field reg_name_nl: unsupported OGR type: 5\n",
      "Skipping field reg_name_de: unsupported OGR type: 5\n",
      "Skipping field reg_code: unsupported OGR type: 5\n",
      "Skipping field reg_name_fr: unsupported OGR type: 5\n",
      "Skipping field reg_name_nl: unsupported OGR type: 5\n",
      "Skipping field reg_name_de: unsupported OGR type: 5\n",
      "Skipping field reg_code: unsupported OGR type: 5\n",
      "Skipping field reg_name_fr: unsupported OGR type: 5\n",
      "Skipping field reg_name_nl: unsupported OGR type: 5\n",
      "Skipping field reg_name_de: unsupported OGR type: 5\n",
      "Skipping field reg_code: unsupported OGR type: 5\n",
      "Skipping field reg_name_fr: unsupported OGR type: 5\n",
      "Skipping field reg_name_nl: unsupported OGR type: 5\n",
      "Skipping field reg_name_de: unsupported OGR type: 5\n",
      "Skipping field reg_code: unsupported OGR type: 5\n",
      "Skipping field reg_name_fr: unsupported OGR type: 5\n",
      "Skipping field reg_name_nl: unsupported OGR type: 5\n",
      "Skipping field reg_name_de: unsupported OGR type: 5\n",
      "Skipping field reg_code: unsupported OGR type: 5\n",
      "Skipping field reg_name_fr: unsupported OGR type: 5\n",
      "Skipping field reg_name_nl: unsupported OGR type: 5\n",
      "Skipping field reg_name_de: unsupported OGR type: 5\n",
      "Skipping field reg_code: unsupported OGR type: 5\n",
      "Skipping field reg_name_fr: unsupported OGR type: 5\n",
      "Skipping field reg_name_nl: unsupported OGR type: 5\n",
      "Skipping field reg_name_de: unsupported OGR type: 5\n",
      "Skipping field reg_code: unsupported OGR type: 5\n",
      "Skipping field reg_name_fr: unsupported OGR type: 5\n",
      "Skipping field reg_name_nl: unsupported OGR type: 5\n",
      "Skipping field reg_name_de: unsupported OGR type: 5\n",
      "Skipping field reg_code: unsupported OGR type: 5\n",
      "Skipping field reg_name_fr: unsupported OGR type: 5\n",
      "Skipping field reg_name_nl: unsupported OGR type: 5\n",
      "Skipping field reg_name_de: unsupported OGR type: 5\n",
      "Skipping field reg_code: unsupported OGR type: 5\n",
      "Skipping field reg_name_fr: unsupported OGR type: 5\n",
      "Skipping field reg_name_nl: unsupported OGR type: 5\n",
      "Skipping field reg_name_de: unsupported OGR type: 5\n",
      "Skipping field reg_code: unsupported OGR type: 5\n",
      "Skipping field reg_name_fr: unsupported OGR type: 5\n",
      "Skipping field reg_name_nl: unsupported OGR type: 5\n",
      "Skipping field reg_name_de: unsupported OGR type: 5\n",
      "Skipping field reg_code: unsupported OGR type: 5\n",
      "Skipping field reg_name_fr: unsupported OGR type: 5\n",
      "Skipping field reg_name_nl: unsupported OGR type: 5\n",
      "Skipping field reg_name_de: unsupported OGR type: 5\n",
      "Skipping field reg_code: unsupported OGR type: 5\n",
      "Skipping field reg_name_fr: unsupported OGR type: 5\n",
      "Skipping field reg_name_nl: unsupported OGR type: 5\n",
      "Skipping field reg_name_de: unsupported OGR type: 5\n",
      "Skipping field reg_code: unsupported OGR type: 5\n",
      "Skipping field reg_name_fr: unsupported OGR type: 5\n",
      "Skipping field reg_name_nl: unsupported OGR type: 5\n",
      "Skipping field reg_name_de: unsupported OGR type: 5\n",
      "Skipping field reg_code: unsupported OGR type: 5\n",
      "Skipping field reg_name_fr: unsupported OGR type: 5\n",
      "Skipping field reg_name_nl: unsupported OGR type: 5\n",
      "Skipping field reg_name_de: unsupported OGR type: 5\n",
      "Skipping field reg_code: unsupported OGR type: 5\n",
      "Skipping field reg_name_fr: unsupported OGR type: 5\n",
      "Skipping field reg_name_nl: unsupported OGR type: 5\n",
      "Skipping field reg_name_de: unsupported OGR type: 5\n",
      "Skipping field reg_code: unsupported OGR type: 5\n",
      "Skipping field reg_name_fr: unsupported OGR type: 5\n",
      "Skipping field reg_name_nl: unsupported OGR type: 5\n",
      "Skipping field reg_name_de: unsupported OGR type: 5\n",
      "Skipping field reg_code: unsupported OGR type: 5\n",
      "Skipping field reg_name_fr: unsupported OGR type: 5\n",
      "Skipping field reg_name_nl: unsupported OGR type: 5\n",
      "Skipping field reg_name_de: unsupported OGR type: 5\n",
      "Skipping field reg_code: unsupported OGR type: 5\n",
      "Skipping field reg_name_fr: unsupported OGR type: 5\n",
      "Skipping field reg_name_nl: unsupported OGR type: 5\n",
      "Skipping field reg_name_de: unsupported OGR type: 5\n",
      "Skipping field reg_code: unsupported OGR type: 5\n",
      "Skipping field reg_name_fr: unsupported OGR type: 5\n",
      "Skipping field reg_name_nl: unsupported OGR type: 5\n",
      "Skipping field reg_name_de: unsupported OGR type: 5\n",
      "Skipping field reg_code: unsupported OGR type: 5\n",
      "Skipping field reg_name_fr: unsupported OGR type: 5\n",
      "Skipping field reg_name_nl: unsupported OGR type: 5\n",
      "Skipping field reg_name_de: unsupported OGR type: 5\n",
      "Skipping field reg_code: unsupported OGR type: 5\n",
      "Skipping field reg_name_fr: unsupported OGR type: 5\n",
      "Skipping field reg_name_nl: unsupported OGR type: 5\n",
      "Skipping field reg_name_de: unsupported OGR type: 5\n",
      "Skipping field reg_code: unsupported OGR type: 5\n",
      "Skipping field reg_name_fr: unsupported OGR type: 5\n",
      "Skipping field reg_name_nl: unsupported OGR type: 5\n",
      "Skipping field reg_name_de: unsupported OGR type: 5\n",
      "Skipping field reg_code: unsupported OGR type: 5\n",
      "Skipping field reg_name_fr: unsupported OGR type: 5\n",
      "Skipping field reg_name_nl: unsupported OGR type: 5\n",
      "Skipping field reg_name_de: unsupported OGR type: 5\n",
      "Skipping field reg_code: unsupported OGR type: 5\n",
      "Skipping field reg_name_fr: unsupported OGR type: 5\n",
      "Skipping field reg_name_nl: unsupported OGR type: 5\n",
      "Skipping field reg_name_de: unsupported OGR type: 5\n",
      "Skipping field reg_code: unsupported OGR type: 5\n",
      "Skipping field reg_name_fr: unsupported OGR type: 5\n",
      "Skipping field reg_name_nl: unsupported OGR type: 5\n",
      "Skipping field reg_name_de: unsupported OGR type: 5\n",
      "Skipping field reg_code: unsupported OGR type: 5\n",
      "Skipping field reg_name_fr: unsupported OGR type: 5\n",
      "Skipping field reg_name_nl: unsupported OGR type: 5\n",
      "Skipping field reg_name_de: unsupported OGR type: 5\n",
      "Skipping field reg_code: unsupported OGR type: 5\n",
      "Skipping field reg_name_fr: unsupported OGR type: 5\n",
      "Skipping field reg_name_nl: unsupported OGR type: 5\n",
      "Skipping field reg_name_de: unsupported OGR type: 5\n",
      "Skipping field reg_code: unsupported OGR type: 5\n",
      "Skipping field reg_name_fr: unsupported OGR type: 5\n",
      "Skipping field reg_name_nl: unsupported OGR type: 5\n",
      "Skipping field reg_name_de: unsupported OGR type: 5\n",
      "Skipping field reg_code: unsupported OGR type: 5\n",
      "Skipping field reg_name_fr: unsupported OGR type: 5\n",
      "Skipping field reg_name_nl: unsupported OGR type: 5\n",
      "Skipping field reg_name_de: unsupported OGR type: 5\n",
      "Skipping field reg_code: unsupported OGR type: 5\n",
      "Skipping field reg_name_fr: unsupported OGR type: 5\n",
      "Skipping field reg_name_nl: unsupported OGR type: 5\n",
      "Skipping field reg_name_de: unsupported OGR type: 5\n",
      "Skipping field reg_code: unsupported OGR type: 5\n",
      "Skipping field reg_name_fr: unsupported OGR type: 5\n",
      "Skipping field reg_name_nl: unsupported OGR type: 5\n",
      "Skipping field reg_name_de: unsupported OGR type: 5\n",
      "Skipping field reg_code: unsupported OGR type: 5\n",
      "Skipping field reg_name_fr: unsupported OGR type: 5\n",
      "Skipping field reg_name_nl: unsupported OGR type: 5\n",
      "Skipping field reg_name_de: unsupported OGR type: 5\n",
      "Skipping field reg_code: unsupported OGR type: 5\n",
      "Skipping field reg_name_fr: unsupported OGR type: 5\n",
      "Skipping field reg_name_nl: unsupported OGR type: 5\n",
      "Skipping field reg_name_de: unsupported OGR type: 5\n",
      "Skipping field reg_code: unsupported OGR type: 5\n",
      "Skipping field reg_name_fr: unsupported OGR type: 5\n",
      "Skipping field reg_name_nl: unsupported OGR type: 5\n",
      "Skipping field reg_name_de: unsupported OGR type: 5\n",
      "Skipping field reg_code: unsupported OGR type: 5\n",
      "Skipping field reg_name_fr: unsupported OGR type: 5\n",
      "Skipping field reg_name_nl: unsupported OGR type: 5\n",
      "Skipping field reg_name_de: unsupported OGR type: 5\n",
      "Skipping field reg_code: unsupported OGR type: 5\n",
      "Skipping field reg_name_fr: unsupported OGR type: 5\n",
      "Skipping field reg_name_nl: unsupported OGR type: 5\n",
      "Skipping field reg_name_de: unsupported OGR type: 5\n",
      "Skipping field reg_code: unsupported OGR type: 5\n",
      "Skipping field reg_name_fr: unsupported OGR type: 5\n",
      "Skipping field reg_name_nl: unsupported OGR type: 5\n",
      "Skipping field reg_name_de: unsupported OGR type: 5\n",
      "Skipping field reg_code: unsupported OGR type: 5\n",
      "Skipping field reg_name_fr: unsupported OGR type: 5\n",
      "Skipping field reg_name_nl: unsupported OGR type: 5\n",
      "Skipping field reg_name_de: unsupported OGR type: 5\n",
      "Skipping field reg_code: unsupported OGR type: 5\n",
      "Skipping field reg_name_fr: unsupported OGR type: 5\n",
      "Skipping field reg_name_nl: unsupported OGR type: 5\n",
      "Skipping field reg_name_de: unsupported OGR type: 5\n",
      "Skipping field reg_code: unsupported OGR type: 5\n",
      "Skipping field reg_name_fr: unsupported OGR type: 5\n",
      "Skipping field reg_name_nl: unsupported OGR type: 5\n",
      "Skipping field reg_name_de: unsupported OGR type: 5\n",
      "Skipping field reg_code: unsupported OGR type: 5\n",
      "Skipping field reg_name_fr: unsupported OGR type: 5\n",
      "Skipping field reg_name_nl: unsupported OGR type: 5\n",
      "Skipping field reg_name_de: unsupported OGR type: 5\n",
      "Skipping field reg_code: unsupported OGR type: 5\n",
      "Skipping field reg_name_fr: unsupported OGR type: 5\n",
      "Skipping field reg_name_nl: unsupported OGR type: 5\n",
      "Skipping field reg_name_de: unsupported OGR type: 5\n",
      "Skipping field reg_code: unsupported OGR type: 5\n",
      "Skipping field reg_name_fr: unsupported OGR type: 5\n",
      "Skipping field reg_name_nl: unsupported OGR type: 5\n",
      "Skipping field reg_name_de: unsupported OGR type: 5\n",
      "Skipping field reg_code: unsupported OGR type: 5\n",
      "Skipping field reg_name_fr: unsupported OGR type: 5\n",
      "Skipping field reg_name_nl: unsupported OGR type: 5\n",
      "Skipping field reg_name_de: unsupported OGR type: 5\n",
      "Skipping field reg_code: unsupported OGR type: 5\n",
      "Skipping field reg_name_fr: unsupported OGR type: 5\n",
      "Skipping field reg_name_nl: unsupported OGR type: 5\n",
      "Skipping field reg_name_de: unsupported OGR type: 5\n",
      "Skipping field reg_code: unsupported OGR type: 5\n",
      "Skipping field reg_name_fr: unsupported OGR type: 5\n",
      "Skipping field reg_name_nl: unsupported OGR type: 5\n",
      "Skipping field reg_name_de: unsupported OGR type: 5\n",
      "Skipping field reg_code: unsupported OGR type: 5\n",
      "Skipping field reg_name_fr: unsupported OGR type: 5\n",
      "Skipping field reg_name_nl: unsupported OGR type: 5\n",
      "Skipping field reg_name_de: unsupported OGR type: 5\n",
      "Skipping field reg_code: unsupported OGR type: 5\n",
      "Skipping field reg_name_fr: unsupported OGR type: 5\n",
      "Skipping field reg_name_nl: unsupported OGR type: 5\n",
      "Skipping field reg_name_de: unsupported OGR type: 5\n",
      "Skipping field reg_code: unsupported OGR type: 5\n",
      "Skipping field reg_name_fr: unsupported OGR type: 5\n",
      "Skipping field reg_name_nl: unsupported OGR type: 5\n",
      "Skipping field reg_name_de: unsupported OGR type: 5\n",
      "Skipping field reg_code: unsupported OGR type: 5\n",
      "Skipping field reg_name_fr: unsupported OGR type: 5\n",
      "Skipping field reg_name_nl: unsupported OGR type: 5\n",
      "Skipping field reg_name_de: unsupported OGR type: 5\n",
      "Skipping field reg_code: unsupported OGR type: 5\n",
      "Skipping field reg_name_fr: unsupported OGR type: 5\n",
      "Skipping field reg_name_nl: unsupported OGR type: 5\n",
      "Skipping field reg_name_de: unsupported OGR type: 5\n",
      "Skipping field reg_code: unsupported OGR type: 5\n",
      "Skipping field reg_name_fr: unsupported OGR type: 5\n",
      "Skipping field reg_name_nl: unsupported OGR type: 5\n",
      "Skipping field reg_name_de: unsupported OGR type: 5\n",
      "Skipping field reg_code: unsupported OGR type: 5\n",
      "Skipping field reg_name_fr: unsupported OGR type: 5\n",
      "Skipping field reg_name_nl: unsupported OGR type: 5\n",
      "Skipping field reg_name_de: unsupported OGR type: 5\n",
      "Skipping field reg_code: unsupported OGR type: 5\n",
      "Skipping field reg_name_fr: unsupported OGR type: 5\n",
      "Skipping field reg_name_nl: unsupported OGR type: 5\n",
      "Skipping field reg_name_de: unsupported OGR type: 5\n",
      "Skipping field reg_code: unsupported OGR type: 5\n",
      "Skipping field reg_name_fr: unsupported OGR type: 5\n",
      "Skipping field reg_name_nl: unsupported OGR type: 5\n",
      "Skipping field reg_name_de: unsupported OGR type: 5\n",
      "Skipping field reg_code: unsupported OGR type: 5\n",
      "Skipping field reg_name_fr: unsupported OGR type: 5\n",
      "Skipping field reg_name_nl: unsupported OGR type: 5\n",
      "Skipping field reg_name_de: unsupported OGR type: 5\n",
      "Skipping field reg_code: unsupported OGR type: 5\n",
      "Skipping field reg_name_fr: unsupported OGR type: 5\n",
      "Skipping field reg_name_nl: unsupported OGR type: 5\n",
      "Skipping field reg_name_de: unsupported OGR type: 5\n",
      "Skipping field reg_code: unsupported OGR type: 5\n",
      "Skipping field reg_name_fr: unsupported OGR type: 5\n",
      "Skipping field reg_name_nl: unsupported OGR type: 5\n",
      "Skipping field reg_name_de: unsupported OGR type: 5\n",
      "Skipping field reg_code: unsupported OGR type: 5\n",
      "Skipping field reg_name_fr: unsupported OGR type: 5\n",
      "Skipping field reg_name_nl: unsupported OGR type: 5\n",
      "Skipping field reg_name_de: unsupported OGR type: 5\n",
      "Skipping field reg_code: unsupported OGR type: 5\n",
      "Skipping field reg_name_fr: unsupported OGR type: 5\n",
      "Skipping field reg_name_nl: unsupported OGR type: 5\n",
      "Skipping field reg_name_de: unsupported OGR type: 5\n",
      "Skipping field reg_code: unsupported OGR type: 5\n",
      "Skipping field reg_name_fr: unsupported OGR type: 5\n",
      "Skipping field reg_name_nl: unsupported OGR type: 5\n",
      "Skipping field reg_name_de: unsupported OGR type: 5\n",
      "Skipping field reg_code: unsupported OGR type: 5\n",
      "Skipping field reg_name_fr: unsupported OGR type: 5\n",
      "Skipping field reg_name_nl: unsupported OGR type: 5\n",
      "Skipping field reg_name_de: unsupported OGR type: 5\n",
      "Skipping field reg_code: unsupported OGR type: 5\n",
      "Skipping field reg_name_fr: unsupported OGR type: 5\n",
      "Skipping field reg_name_nl: unsupported OGR type: 5\n",
      "Skipping field reg_name_de: unsupported OGR type: 5\n",
      "Skipping field reg_code: unsupported OGR type: 5\n",
      "Skipping field reg_name_fr: unsupported OGR type: 5\n",
      "Skipping field reg_name_nl: unsupported OGR type: 5\n",
      "Skipping field reg_name_de: unsupported OGR type: 5\n",
      "Skipping field reg_code: unsupported OGR type: 5\n",
      "Skipping field reg_name_fr: unsupported OGR type: 5\n",
      "Skipping field reg_name_nl: unsupported OGR type: 5\n",
      "Skipping field reg_name_de: unsupported OGR type: 5\n",
      "Skipping field reg_code: unsupported OGR type: 5\n",
      "Skipping field reg_name_fr: unsupported OGR type: 5\n",
      "Skipping field reg_name_nl: unsupported OGR type: 5\n",
      "Skipping field reg_name_de: unsupported OGR type: 5\n",
      "Skipping field reg_code: unsupported OGR type: 5\n",
      "Skipping field reg_name_fr: unsupported OGR type: 5\n",
      "Skipping field reg_name_nl: unsupported OGR type: 5\n",
      "Skipping field reg_name_de: unsupported OGR type: 5\n",
      "Skipping field reg_code: unsupported OGR type: 5\n",
      "Skipping field reg_name_fr: unsupported OGR type: 5\n",
      "Skipping field reg_name_nl: unsupported OGR type: 5\n",
      "Skipping field reg_name_de: unsupported OGR type: 5\n",
      "Skipping field reg_code: unsupported OGR type: 5\n",
      "Skipping field reg_name_fr: unsupported OGR type: 5\n",
      "Skipping field reg_name_nl: unsupported OGR type: 5\n",
      "Skipping field reg_name_de: unsupported OGR type: 5\n",
      "Skipping field reg_code: unsupported OGR type: 5\n",
      "Skipping field reg_name_fr: unsupported OGR type: 5\n",
      "Skipping field reg_name_nl: unsupported OGR type: 5\n",
      "Skipping field reg_name_de: unsupported OGR type: 5\n",
      "Skipping field reg_code: unsupported OGR type: 5\n",
      "Skipping field reg_name_fr: unsupported OGR type: 5\n",
      "Skipping field reg_name_nl: unsupported OGR type: 5\n",
      "Skipping field reg_name_de: unsupported OGR type: 5\n",
      "Skipping field reg_code: unsupported OGR type: 5\n",
      "Skipping field reg_name_fr: unsupported OGR type: 5\n",
      "Skipping field reg_name_nl: unsupported OGR type: 5\n",
      "Skipping field reg_name_de: unsupported OGR type: 5\n",
      "Skipping field reg_code: unsupported OGR type: 5\n",
      "Skipping field reg_name_fr: unsupported OGR type: 5\n",
      "Skipping field reg_name_nl: unsupported OGR type: 5\n",
      "Skipping field reg_name_de: unsupported OGR type: 5\n",
      "Skipping field reg_code: unsupported OGR type: 5\n",
      "Skipping field reg_name_fr: unsupported OGR type: 5\n",
      "Skipping field reg_name_nl: unsupported OGR type: 5\n",
      "Skipping field reg_name_de: unsupported OGR type: 5\n",
      "Skipping field reg_code: unsupported OGR type: 5\n",
      "Skipping field reg_name_fr: unsupported OGR type: 5\n",
      "Skipping field reg_name_nl: unsupported OGR type: 5\n",
      "Skipping field reg_name_de: unsupported OGR type: 5\n",
      "Skipping field reg_code: unsupported OGR type: 5\n",
      "Skipping field reg_name_fr: unsupported OGR type: 5\n",
      "Skipping field reg_name_nl: unsupported OGR type: 5\n",
      "Skipping field reg_name_de: unsupported OGR type: 5\n",
      "Skipping field reg_code: unsupported OGR type: 5\n",
      "Skipping field reg_name_fr: unsupported OGR type: 5\n",
      "Skipping field reg_name_nl: unsupported OGR type: 5\n",
      "Skipping field reg_name_de: unsupported OGR type: 5\n",
      "Skipping field reg_code: unsupported OGR type: 5\n",
      "Skipping field reg_name_fr: unsupported OGR type: 5\n",
      "Skipping field reg_name_nl: unsupported OGR type: 5\n",
      "Skipping field reg_name_de: unsupported OGR type: 5\n",
      "Skipping field reg_code: unsupported OGR type: 5\n",
      "Skipping field reg_name_fr: unsupported OGR type: 5\n",
      "Skipping field reg_name_nl: unsupported OGR type: 5\n",
      "Skipping field reg_name_de: unsupported OGR type: 5\n",
      "Skipping field reg_code: unsupported OGR type: 5\n",
      "Skipping field reg_name_fr: unsupported OGR type: 5\n",
      "Skipping field reg_name_nl: unsupported OGR type: 5\n",
      "Skipping field reg_name_de: unsupported OGR type: 5\n",
      "Skipping field reg_code: unsupported OGR type: 5\n",
      "Skipping field reg_name_fr: unsupported OGR type: 5\n",
      "Skipping field reg_name_nl: unsupported OGR type: 5\n",
      "Skipping field reg_name_de: unsupported OGR type: 5\n",
      "Skipping field reg_code: unsupported OGR type: 5\n",
      "Skipping field reg_name_fr: unsupported OGR type: 5\n",
      "Skipping field reg_name_nl: unsupported OGR type: 5\n",
      "Skipping field reg_name_de: unsupported OGR type: 5\n",
      "Skipping field reg_code: unsupported OGR type: 5\n",
      "Skipping field reg_name_fr: unsupported OGR type: 5\n",
      "Skipping field reg_name_nl: unsupported OGR type: 5\n",
      "Skipping field reg_name_de: unsupported OGR type: 5\n",
      "Skipping field reg_code: unsupported OGR type: 5\n",
      "Skipping field reg_name_fr: unsupported OGR type: 5\n",
      "Skipping field reg_name_nl: unsupported OGR type: 5\n",
      "Skipping field reg_name_de: unsupported OGR type: 5\n",
      "Skipping field reg_code: unsupported OGR type: 5\n",
      "Skipping field reg_name_fr: unsupported OGR type: 5\n",
      "Skipping field reg_name_nl: unsupported OGR type: 5\n",
      "Skipping field reg_name_de: unsupported OGR type: 5\n",
      "Skipping field reg_code: unsupported OGR type: 5\n",
      "Skipping field reg_name_fr: unsupported OGR type: 5\n",
      "Skipping field reg_name_nl: unsupported OGR type: 5\n",
      "Skipping field reg_name_de: unsupported OGR type: 5\n",
      "Skipping field reg_code: unsupported OGR type: 5\n",
      "Skipping field reg_name_fr: unsupported OGR type: 5\n",
      "Skipping field reg_name_nl: unsupported OGR type: 5\n",
      "Skipping field reg_name_de: unsupported OGR type: 5\n",
      "Skipping field reg_code: unsupported OGR type: 5\n",
      "Skipping field reg_name_fr: unsupported OGR type: 5\n",
      "Skipping field reg_name_nl: unsupported OGR type: 5\n",
      "Skipping field reg_name_de: unsupported OGR type: 5\n",
      "Skipping field reg_code: unsupported OGR type: 5\n",
      "Skipping field reg_name_fr: unsupported OGR type: 5\n",
      "Skipping field reg_name_nl: unsupported OGR type: 5\n",
      "Skipping field reg_name_de: unsupported OGR type: 5\n",
      "Skipping field reg_code: unsupported OGR type: 5\n",
      "Skipping field reg_name_fr: unsupported OGR type: 5\n",
      "Skipping field reg_name_nl: unsupported OGR type: 5\n",
      "Skipping field reg_name_de: unsupported OGR type: 5\n",
      "Skipping field reg_code: unsupported OGR type: 5\n",
      "Skipping field reg_name_fr: unsupported OGR type: 5\n",
      "Skipping field reg_name_nl: unsupported OGR type: 5\n",
      "Skipping field reg_name_de: unsupported OGR type: 5\n",
      "Skipping field reg_code: unsupported OGR type: 5\n",
      "Skipping field reg_name_fr: unsupported OGR type: 5\n",
      "Skipping field reg_name_nl: unsupported OGR type: 5\n",
      "Skipping field reg_name_de: unsupported OGR type: 5\n",
      "Skipping field reg_code: unsupported OGR type: 5\n",
      "Skipping field reg_name_fr: unsupported OGR type: 5\n",
      "Skipping field reg_name_nl: unsupported OGR type: 5\n",
      "Skipping field reg_name_de: unsupported OGR type: 5\n",
      "Skipping field reg_code: unsupported OGR type: 5\n",
      "Skipping field reg_name_fr: unsupported OGR type: 5\n",
      "Skipping field reg_name_nl: unsupported OGR type: 5\n",
      "Skipping field reg_name_de: unsupported OGR type: 5\n",
      "Skipping field reg_code: unsupported OGR type: 5\n",
      "Skipping field reg_name_fr: unsupported OGR type: 5\n",
      "Skipping field reg_name_nl: unsupported OGR type: 5\n",
      "Skipping field reg_name_de: unsupported OGR type: 5\n",
      "Skipping field reg_code: unsupported OGR type: 5\n",
      "Skipping field reg_name_fr: unsupported OGR type: 5\n",
      "Skipping field reg_name_nl: unsupported OGR type: 5\n",
      "Skipping field reg_name_de: unsupported OGR type: 5\n",
      "Skipping field reg_code: unsupported OGR type: 5\n",
      "Skipping field reg_name_fr: unsupported OGR type: 5\n",
      "Skipping field reg_name_nl: unsupported OGR type: 5\n",
      "Skipping field reg_name_de: unsupported OGR type: 5\n",
      "Skipping field reg_code: unsupported OGR type: 5\n",
      "Skipping field reg_name_fr: unsupported OGR type: 5\n",
      "Skipping field reg_name_nl: unsupported OGR type: 5\n",
      "Skipping field reg_name_de: unsupported OGR type: 5\n",
      "Skipping field reg_code: unsupported OGR type: 5\n",
      "Skipping field reg_name_fr: unsupported OGR type: 5\n",
      "Skipping field reg_name_nl: unsupported OGR type: 5\n",
      "Skipping field reg_name_de: unsupported OGR type: 5\n",
      "Skipping field reg_code: unsupported OGR type: 5\n",
      "Skipping field reg_name_fr: unsupported OGR type: 5\n",
      "Skipping field reg_name_nl: unsupported OGR type: 5\n",
      "Skipping field reg_name_de: unsupported OGR type: 5\n",
      "Skipping field reg_code: unsupported OGR type: 5\n",
      "Skipping field reg_name_fr: unsupported OGR type: 5\n",
      "Skipping field reg_name_nl: unsupported OGR type: 5\n",
      "Skipping field reg_name_de: unsupported OGR type: 5\n",
      "Skipping field reg_code: unsupported OGR type: 5\n",
      "Skipping field reg_name_fr: unsupported OGR type: 5\n",
      "Skipping field reg_name_nl: unsupported OGR type: 5\n",
      "Skipping field reg_name_de: unsupported OGR type: 5\n",
      "Skipping field reg_code: unsupported OGR type: 5\n",
      "Skipping field reg_name_fr: unsupported OGR type: 5\n",
      "Skipping field reg_name_nl: unsupported OGR type: 5\n",
      "Skipping field reg_name_de: unsupported OGR type: 5\n",
      "Skipping field reg_code: unsupported OGR type: 5\n",
      "Skipping field reg_name_fr: unsupported OGR type: 5\n",
      "Skipping field reg_name_nl: unsupported OGR type: 5\n",
      "Skipping field reg_name_de: unsupported OGR type: 5\n",
      "Skipping field reg_code: unsupported OGR type: 5\n",
      "Skipping field reg_name_fr: unsupported OGR type: 5\n",
      "Skipping field reg_name_nl: unsupported OGR type: 5\n",
      "Skipping field reg_name_de: unsupported OGR type: 5\n",
      "Skipping field reg_code: unsupported OGR type: 5\n",
      "Skipping field reg_name_fr: unsupported OGR type: 5\n",
      "Skipping field reg_name_nl: unsupported OGR type: 5\n",
      "Skipping field reg_name_de: unsupported OGR type: 5\n",
      "Skipping field reg_code: unsupported OGR type: 5\n",
      "Skipping field reg_name_fr: unsupported OGR type: 5\n",
      "Skipping field reg_name_nl: unsupported OGR type: 5\n",
      "Skipping field reg_name_de: unsupported OGR type: 5\n",
      "Skipping field reg_code: unsupported OGR type: 5\n",
      "Skipping field reg_name_fr: unsupported OGR type: 5\n",
      "Skipping field reg_name_nl: unsupported OGR type: 5\n",
      "Skipping field reg_name_de: unsupported OGR type: 5\n",
      "Skipping field reg_code: unsupported OGR type: 5\n",
      "Skipping field reg_name_fr: unsupported OGR type: 5\n",
      "Skipping field reg_name_nl: unsupported OGR type: 5\n",
      "Skipping field reg_name_de: unsupported OGR type: 5\n"
     ]
    },
    {
     "data": {
      "text/html": [
       "<div>\n",
       "<style scoped>\n",
       "    .dataframe tbody tr th:only-of-type {\n",
       "        vertical-align: middle;\n",
       "    }\n",
       "\n",
       "    .dataframe tbody tr th {\n",
       "        vertical-align: top;\n",
       "    }\n",
       "\n",
       "    .dataframe thead th {\n",
       "        text-align: right;\n",
       "    }\n",
       "</style>\n",
       "<table border=\"1\" class=\"dataframe\">\n",
       "  <thead>\n",
       "    <tr style=\"text-align: right;\">\n",
       "      <th></th>\n",
       "      <th>station_id</th>\n",
       "      <th>station_label</th>\n",
       "      <th>station_longitude</th>\n",
       "      <th>station_latitude</th>\n",
       "      <th>station_city</th>\n",
       "    </tr>\n",
       "  </thead>\n",
       "  <tbody>\n",
       "    <tr>\n",
       "      <th>0</th>\n",
       "      <td>1031</td>\n",
       "      <td>40AL02 - Beveren</td>\n",
       "      <td>4.234833</td>\n",
       "      <td>51.304521</td>\n",
       "      <td>Beveren</td>\n",
       "    </tr>\n",
       "    <tr>\n",
       "      <th>1</th>\n",
       "      <td>1032</td>\n",
       "      <td>40AL03 - Beveren</td>\n",
       "      <td>4.201460</td>\n",
       "      <td>51.253965</td>\n",
       "      <td>Beveren</td>\n",
       "    </tr>\n",
       "    <tr>\n",
       "      <th>2</th>\n",
       "      <td>1033</td>\n",
       "      <td>40AL04 - Beveren</td>\n",
       "      <td>4.293329</td>\n",
       "      <td>51.290668</td>\n",
       "      <td>Beveren</td>\n",
       "    </tr>\n",
       "    <tr>\n",
       "      <th>3</th>\n",
       "      <td>1034</td>\n",
       "      <td>40AL05 - Beveren</td>\n",
       "      <td>4.278890</td>\n",
       "      <td>51.263118</td>\n",
       "      <td>Beveren</td>\n",
       "    </tr>\n",
       "    <tr>\n",
       "      <th>4</th>\n",
       "      <td>1774</td>\n",
       "      <td>40AT83 - BERENDRECHT</td>\n",
       "      <td>4.304989</td>\n",
       "      <td>51.339803</td>\n",
       "      <td>Berendrecht</td>\n",
       "    </tr>\n",
       "    <tr>\n",
       "      <th>...</th>\n",
       "      <td>...</td>\n",
       "      <td>...</td>\n",
       "      <td>...</td>\n",
       "      <td>...</td>\n",
       "      <td>...</td>\n",
       "    </tr>\n",
       "    <tr>\n",
       "      <th>94</th>\n",
       "      <td>1760</td>\n",
       "      <td>FLM3M3 - Antwerpen (3M - Fence Line ZO)</td>\n",
       "      <td>4.340936</td>\n",
       "      <td>51.229160</td>\n",
       "      <td>Antwerpen</td>\n",
       "    </tr>\n",
       "    <tr>\n",
       "      <th>95</th>\n",
       "      <td>1761</td>\n",
       "      <td>FLM3M4 - Antwerpen (3M - Fence Line Z)</td>\n",
       "      <td>4.335160</td>\n",
       "      <td>51.229270</td>\n",
       "      <td>Antwerpen</td>\n",
       "    </tr>\n",
       "    <tr>\n",
       "      <th>96</th>\n",
       "      <td>1762</td>\n",
       "      <td>FLM3M5 - Antwerpen (3M - Fence Line ZW)</td>\n",
       "      <td>4.329620</td>\n",
       "      <td>51.230220</td>\n",
       "      <td>Antwerpen</td>\n",
       "    </tr>\n",
       "    <tr>\n",
       "      <th>97</th>\n",
       "      <td>1763</td>\n",
       "      <td>FLM3M6 - Antwerpen (3M - Fence Line W)</td>\n",
       "      <td>4.326684</td>\n",
       "      <td>51.232600</td>\n",
       "      <td>Antwerpen</td>\n",
       "    </tr>\n",
       "    <tr>\n",
       "      <th>98</th>\n",
       "      <td>1725</td>\n",
       "      <td>T2H801 - Zwijndrecht</td>\n",
       "      <td>4.333960</td>\n",
       "      <td>51.243741</td>\n",
       "      <td>Zwijndrecht</td>\n",
       "    </tr>\n",
       "  </tbody>\n",
       "</table>\n",
       "<p>99 rows × 5 columns</p>\n",
       "</div>"
      ],
      "text/plain": [
       "    station_id                            station_label  station_longitude  \\\n",
       "0         1031                         40AL02 - Beveren           4.234833   \n",
       "1         1032                         40AL03 - Beveren           4.201460   \n",
       "2         1033                         40AL04 - Beveren           4.293329   \n",
       "3         1034                         40AL05 - Beveren           4.278890   \n",
       "4         1774                     40AT83 - BERENDRECHT           4.304989   \n",
       "..         ...                                      ...                ...   \n",
       "94        1760  FLM3M3 - Antwerpen (3M - Fence Line ZO)           4.340936   \n",
       "95        1761   FLM3M4 - Antwerpen (3M - Fence Line Z)           4.335160   \n",
       "96        1762  FLM3M5 - Antwerpen (3M - Fence Line ZW)           4.329620   \n",
       "97        1763   FLM3M6 - Antwerpen (3M - Fence Line W)           4.326684   \n",
       "98        1725                     T2H801 - Zwijndrecht           4.333960   \n",
       "\n",
       "    station_latitude station_city  \n",
       "0          51.304521      Beveren  \n",
       "1          51.253965      Beveren  \n",
       "2          51.290668      Beveren  \n",
       "3          51.263118      Beveren  \n",
       "4          51.339803  Berendrecht  \n",
       "..               ...          ...  \n",
       "94         51.229160    Antwerpen  \n",
       "95         51.229270    Antwerpen  \n",
       "96         51.230220    Antwerpen  \n",
       "97         51.232600    Antwerpen  \n",
       "98         51.243741  Zwijndrecht  \n",
       "\n",
       "[99 rows x 5 columns]"
      ]
     },
     "execution_count": 30,
     "metadata": {},
     "output_type": "execute_result"
    }
   ],
   "source": [
    "stations_pd = get_and_parse_station_data(stations_url)\n",
    "stations_pd"
   ]
  },
  {
   "cell_type": "code",
   "execution_count": 31,
   "id": "a00d674c",
   "metadata": {
    "ExecuteTime": {
     "end_time": "2025-07-29T16:26:31.435890Z",
     "start_time": "2025-07-29T16:26:31.304914Z"
    }
   },
   "outputs": [
    {
     "data": {
      "application/vnd.plotly.v1+json": {
       "config": {
        "plotlyServerURL": "https://plot.ly"
       },
       "data": [
        {
         "hovertemplate": "<b>%{hovertext}</b><br><br>station_latitude=%{lat}<br>station_longitude=%{lon}<extra></extra>",
         "hovertext": [
          "40AL02 - Beveren",
          "40AL03 - Beveren",
          "40AL04 - Beveren",
          "40AL05 - Beveren",
          "40AT83 - BERENDRECHT",
          "40DU07 - Deurne",
          "40EG05 - Rieme",
          "40GK37 - Genk",
          "40HB23 - Hoboken",
          "40LD02 - Laakdal",
          "40MN01 - Menen",
          "40OB01 - Oostrozebeke",
          "40R822 - Antwerpen",
          "40R891 - Antwerpen",
          "40R892 - Kallo",
          "40R897 - Antwerpen",
          "40SA04 - Hoevenen",
          "40SZ05 - Steenokkerzeel",
          "40WZ02 - Mol",
          "40ZB07 - Zeebrugge",
          "40ZB08 - Zeebrugge (Evendijk-Oost)",
          "40ZL01 - Zelzate",
          "41B001 - Arts-Loi",
          "41B004 - Bruxelles (Sainte-Catherine)",
          "41B006 - Bruxelles (Parlement UE)",
          "41B008 - Brussel (Beliardstraat)",
          "41B011 - Berchem-Sainte-Agathe",
          "41BUL1 - Brussel (Bld du Midi)",
          "41CHA1 - Brussel (Ganshoren)",
          "41MEU1 - Meudon",
          "41N043 - Haren",
          "41R001 - Molenbeek-Saint-Jean",
          "41R002 - Ixelles",
          "41R012 - Uccle",
          "41REG1 - Brussel (Bld du Régent)",
          "41VBX1 - Brussel (Rue de Grand Ile)",
          "41VBX2 - Brussel (Rue des Tanneurs)",
          "41VBX3 - Brussel (Rue de Laeken)",
          "42AL09 - Antwerpen (Van Averbekelaan)",
          "42AL10 - Antwerpen (Blancefloerlaan)",
          "42BO01 - Bonheiden",
          "42HH08 - Houthalen-Helchteren",
          "42M802 - Antwerpen",
          "42MK02 - Merksem",
          "42N016 - Dessel",
          "42N027 - Bree",
          "42N035 - Aarschot",
          "42N040 - Sint-Pieters-Leeuw (3m)",
          "42N046 - Gellik",
          "42N047 - Hasselt",
          "42N054 - Walshoutem",
          "42OT02 - Oud-Turnhout",
          "42R010 - Sint-Stevens-Woluwe",
          "42R020 - Vilvoorde",
          "42R801 - Borgerhout",
          "42R802 - Borgerhout",
          "42R803 - Antwerpen (Park Spoor Noord)",
          "42R804 - Antwerpen (Ring)",
          "42R805 - Antwerpen (Belgiëlei)",
          "42R806 - Maerlant",
          "42R811 - Schoten",
          "42R817 - Antwerpen (Groenenborgerlaan)",
          "42R818 - Antwerpen (Burchtse Weel)",
          "42R823 - Beveren",
          "42R830 - Doel",
          "42R831 - Berendrecht",
          "42R834 - Boom",
          "42R842 - Mechelen (Hendrik Speecqvest)",
          "42ZD01 - Zwijndrecht (Binnenplein)",
          "42ZD08 - Zwijndrecht (Neerstraat)",
          "44M705 - Roeselare",
          "44N012 - Moerkerke",
          "44N029 - Houtem",
          "44N052 - Zwevegem",
          "44R701 - Gent",
          "44R702 - Gent (Carlierlaan)",
          "44R703 - Gent (Lange Violettestraat)",
          "44R710 - Destelbergen",
          "44R731 - Evergem",
          "44R740 - Sint-Kruiswinkel",
          "44R750 - Zelzate",
          "44RL01 - Roeselare",
          "47E007 - Sint-Pieters-Leeuw",
          "47E008 - Grimbergen",
          "47E009 - Zemst",
          "47E013 - Vorst",
          "47E703 - Oosteeklo",
          "47E704 - Wachtebeke",
          "47E714 - Dudzele",
          "47E715 - Zuienkerke",
          "47E716 - Mariakerke",
          "47E814 - Ham",
          "FLM3M1 - Antwerpen (3M - Fence Line N)",
          "FLM3M2 - Antwerpen (3M - Fence Line O)",
          "FLM3M3 - Antwerpen (3M - Fence Line ZO)",
          "FLM3M4 - Antwerpen (3M - Fence Line Z)",
          "FLM3M5 - Antwerpen (3M - Fence Line ZW)",
          "FLM3M6 - Antwerpen (3M - Fence Line W)",
          "T2H801 - Zwijndrecht"
         ],
         "lat": {
          "bdata": "er2JifqmSUCiZ9TrgaBJQHKx8Jc0pUlAMXxi162hSUDLrNepfqtJQBRcJU36nElAEaFsZUeWSUBFGxyTQ3dJQI7TfFPMlUlAS+ZVv2iPSUB028VkkGVJQOiV1r1ndUlA3gFmP9ShSUAWt6lFvqBJQBjRyzCroUlAe19ffQOgSUCJz27SLqhJQMN5JbxUdUlAX95qrq2YSUDyjh83MKlJQNGvOaxKqklAtLjKiQCaSUA+HHZkQGxJQBlQE1znbElAoiVKRFhrSUD++7H1nmtJQLiLTPLTbUlAtKRQnEBrSUBpsH0maG9JQKRHvKeScklAJ/nmfBhxSUBa5bXWwWxJQDWvRsqdaUlAVieJBvhlSUBXXI79+WtJQIK0/2ZMbElACcH4aI5rSUASpIA8cW1JQPSUrYZqnUlAI8GxXyWcSUDG+oK8doNJQBPN/IYLhElA6hRZHGihSUB7bkKkEKBJQHcNxFDonUlAAyfyoB2RSUBdvmwTIH1JQI4hfVRSYklAeB39Ku9wSUBS9rwN1XdJQIN5bi8ZW0lA4q/crVusSUAKdOnau25JQDsHe19/eElAM7rIONaaSUBqBoKC0ZpJQN3/4L1DnUlA8ED0KmiaSUBDwmlDp5pJQKVZdqmUnElAm4qy7ESgSUC1F5U5rJZJQL0+EUYrm0lACni5y0ubSUAk2zu3u6hJQGfs+VKlrElA7ydAqMaLSUCmAjqhm4JJQNW4cWWVm0lAN5K7eBidSUAgSRiIAXlJQOpkU96VoElA0nR4dxWCSUDO1XbJTWhJQJ/W5ml3h0lA9N2WTzWFSUDkRQgkAIZJQEOzlfLXh0lAol3T2/WPSUBMQM6oN5NJQFYT55kYmUlAHvWOtgF6SUDnFmxYzGVJQM5M5kiKdklAoorEtTp6SUDx+ZzQ5WdJQHO2Dk9cmElATuW9coqWSUAbyMwRtaNJQIrwiHp4n0lAoyE/D5OISUAkkmYchYpJQEE1/fwwnklALa2B0LOdSUCb720dVZ1JQMEiLbhYnUlAeJla2XedSUD5rT3WxZ1JQE75V+Uyn0lA",
          "dtype": "f8"
         },
         "legendgroup": "",
         "lon": {
          "bdata": "MCJL/3fwEEASCEKiS84QQKOl+Y9eLBFAoQAdS5UdEUCYRRH3TjgRQNa9OxiFyxFA+nEPwOZJDkAM8+b0lxUWQGpFgG4wXRFASscUJhAWFECC80nri+AIQBM3m6+GdQpA1KiZgHhdEUAhTCjEm4oRQMUZgVWVHRFARsUfpVBeEUDXexCcj50RQMIzENGLDxJACZ5i1NniFEAfFBeD5r4JQD3FfzJqswlA2pXLlpp3DkBfqhWSh3kRQNA0Zx30ZBFAuQVkpF9/EUC++MM4LYERQBcg/qVBJxFAIRAbUwZeEUD/4aiwgTkRQKJtjpYkkhFAUz7IhCeIEUCXiF3V1FURQNQEbbzziRFAt4BZzyRvEUChYFZd0HcRQEdwdoRlYhFAaNpqwidjEUBTdWlL6GgRQMymF3qRgRFAYNDF10x5EUBww4Ub4RASQDXTzYJrgRVA8vc8p5WyEUB0AnWSyLURQEHsGBLqpxRAVcoREzhtFkAn3X+JuFkTQBUZFFKZ5hBArMsbGrp5FkDp24Fs3WoVQFKfF2miaRRAIlwnYhMMFEAmcE6ktbYRQLBzU7ozvxFAm9LpSy+6EUCFrhe+J7oRQD1mIbG8thFAPAc3x43EEUBAm3I6ra8RQBq3eJmPqxFAd+qBmyf3EUAKp0q6+qsRQKugkcT3ZhFAJraFXbD1EEDPiD3b7wwRQNwFpOzcWxFAuHQZ3TmFEUC4+3982u4RQD/WXsO+TRFA2GuJAXtTEUCvajdTHjgJQCbMTDd55gpAsbax2JioBECEScvmd5QKQKKMo0ea1Q1A1u0lujjhDUBVF5RVy98NQNvDisS8Mw5AnmpQMIHqDUDu6QVISngOQLL6ARtXlQ5AqhA4bSD4CEAVg3wIsQIRQJwzYg5slRFA54w58929EUCed9QRRFARQOyw4eqUfw1A37fe5pz1DkANptqcLv0JQOhJ/B1eZglAM13Rq2Z2DUApEqTQ1IQUQHkjok8bVRFAmTNSNEZbEUDRlmJTHl0RQPo0li40VxFA4vN654dREUCMC9s/hk4RQHKkVo/5VRFA",
          "dtype": "f8"
         },
         "marker": {
          "color": "#636efa"
         },
         "mode": "markers",
         "name": "",
         "showlegend": false,
         "subplot": "map",
         "type": "scattermap"
        }
       ],
       "layout": {
        "height": 600,
        "legend": {
         "tracegroupgap": 0
        },
        "map": {
         "center": {
          "lat": 51.08764930008185,
          "lon": 4.264126424354188
         },
         "domain": {
          "x": [
           0,
           1
          ],
          "y": [
           0,
           1
          ]
         },
         "zoom": 6
        },
        "mapbox": {
         "center": {
          "lat": 51.08764930008185,
          "lon": 4.264126424354188
         },
         "zoom": 6
        },
        "margin": {
         "t": 60
        },
        "template": {
         "data": {
          "bar": [
           {
            "error_x": {
             "color": "#2a3f5f"
            },
            "error_y": {
             "color": "#2a3f5f"
            },
            "marker": {
             "line": {
              "color": "#E5ECF6",
              "width": 0.5
             },
             "pattern": {
              "fillmode": "overlay",
              "size": 10,
              "solidity": 0.2
             }
            },
            "type": "bar"
           }
          ],
          "barpolar": [
           {
            "marker": {
             "line": {
              "color": "#E5ECF6",
              "width": 0.5
             },
             "pattern": {
              "fillmode": "overlay",
              "size": 10,
              "solidity": 0.2
             }
            },
            "type": "barpolar"
           }
          ],
          "carpet": [
           {
            "aaxis": {
             "endlinecolor": "#2a3f5f",
             "gridcolor": "white",
             "linecolor": "white",
             "minorgridcolor": "white",
             "startlinecolor": "#2a3f5f"
            },
            "baxis": {
             "endlinecolor": "#2a3f5f",
             "gridcolor": "white",
             "linecolor": "white",
             "minorgridcolor": "white",
             "startlinecolor": "#2a3f5f"
            },
            "type": "carpet"
           }
          ],
          "choropleth": [
           {
            "colorbar": {
             "outlinewidth": 0,
             "ticks": ""
            },
            "type": "choropleth"
           }
          ],
          "contour": [
           {
            "colorbar": {
             "outlinewidth": 0,
             "ticks": ""
            },
            "colorscale": [
             [
              0,
              "#0d0887"
             ],
             [
              0.1111111111111111,
              "#46039f"
             ],
             [
              0.2222222222222222,
              "#7201a8"
             ],
             [
              0.3333333333333333,
              "#9c179e"
             ],
             [
              0.4444444444444444,
              "#bd3786"
             ],
             [
              0.5555555555555556,
              "#d8576b"
             ],
             [
              0.6666666666666666,
              "#ed7953"
             ],
             [
              0.7777777777777778,
              "#fb9f3a"
             ],
             [
              0.8888888888888888,
              "#fdca26"
             ],
             [
              1,
              "#f0f921"
             ]
            ],
            "type": "contour"
           }
          ],
          "contourcarpet": [
           {
            "colorbar": {
             "outlinewidth": 0,
             "ticks": ""
            },
            "type": "contourcarpet"
           }
          ],
          "heatmap": [
           {
            "colorbar": {
             "outlinewidth": 0,
             "ticks": ""
            },
            "colorscale": [
             [
              0,
              "#0d0887"
             ],
             [
              0.1111111111111111,
              "#46039f"
             ],
             [
              0.2222222222222222,
              "#7201a8"
             ],
             [
              0.3333333333333333,
              "#9c179e"
             ],
             [
              0.4444444444444444,
              "#bd3786"
             ],
             [
              0.5555555555555556,
              "#d8576b"
             ],
             [
              0.6666666666666666,
              "#ed7953"
             ],
             [
              0.7777777777777778,
              "#fb9f3a"
             ],
             [
              0.8888888888888888,
              "#fdca26"
             ],
             [
              1,
              "#f0f921"
             ]
            ],
            "type": "heatmap"
           }
          ],
          "histogram": [
           {
            "marker": {
             "pattern": {
              "fillmode": "overlay",
              "size": 10,
              "solidity": 0.2
             }
            },
            "type": "histogram"
           }
          ],
          "histogram2d": [
           {
            "colorbar": {
             "outlinewidth": 0,
             "ticks": ""
            },
            "colorscale": [
             [
              0,
              "#0d0887"
             ],
             [
              0.1111111111111111,
              "#46039f"
             ],
             [
              0.2222222222222222,
              "#7201a8"
             ],
             [
              0.3333333333333333,
              "#9c179e"
             ],
             [
              0.4444444444444444,
              "#bd3786"
             ],
             [
              0.5555555555555556,
              "#d8576b"
             ],
             [
              0.6666666666666666,
              "#ed7953"
             ],
             [
              0.7777777777777778,
              "#fb9f3a"
             ],
             [
              0.8888888888888888,
              "#fdca26"
             ],
             [
              1,
              "#f0f921"
             ]
            ],
            "type": "histogram2d"
           }
          ],
          "histogram2dcontour": [
           {
            "colorbar": {
             "outlinewidth": 0,
             "ticks": ""
            },
            "colorscale": [
             [
              0,
              "#0d0887"
             ],
             [
              0.1111111111111111,
              "#46039f"
             ],
             [
              0.2222222222222222,
              "#7201a8"
             ],
             [
              0.3333333333333333,
              "#9c179e"
             ],
             [
              0.4444444444444444,
              "#bd3786"
             ],
             [
              0.5555555555555556,
              "#d8576b"
             ],
             [
              0.6666666666666666,
              "#ed7953"
             ],
             [
              0.7777777777777778,
              "#fb9f3a"
             ],
             [
              0.8888888888888888,
              "#fdca26"
             ],
             [
              1,
              "#f0f921"
             ]
            ],
            "type": "histogram2dcontour"
           }
          ],
          "mesh3d": [
           {
            "colorbar": {
             "outlinewidth": 0,
             "ticks": ""
            },
            "type": "mesh3d"
           }
          ],
          "parcoords": [
           {
            "line": {
             "colorbar": {
              "outlinewidth": 0,
              "ticks": ""
             }
            },
            "type": "parcoords"
           }
          ],
          "pie": [
           {
            "automargin": true,
            "type": "pie"
           }
          ],
          "scatter": [
           {
            "fillpattern": {
             "fillmode": "overlay",
             "size": 10,
             "solidity": 0.2
            },
            "type": "scatter"
           }
          ],
          "scatter3d": [
           {
            "line": {
             "colorbar": {
              "outlinewidth": 0,
              "ticks": ""
             }
            },
            "marker": {
             "colorbar": {
              "outlinewidth": 0,
              "ticks": ""
             }
            },
            "type": "scatter3d"
           }
          ],
          "scattercarpet": [
           {
            "marker": {
             "colorbar": {
              "outlinewidth": 0,
              "ticks": ""
             }
            },
            "type": "scattercarpet"
           }
          ],
          "scattergeo": [
           {
            "marker": {
             "colorbar": {
              "outlinewidth": 0,
              "ticks": ""
             }
            },
            "type": "scattergeo"
           }
          ],
          "scattergl": [
           {
            "marker": {
             "colorbar": {
              "outlinewidth": 0,
              "ticks": ""
             }
            },
            "type": "scattergl"
           }
          ],
          "scattermap": [
           {
            "marker": {
             "colorbar": {
              "outlinewidth": 0,
              "ticks": ""
             }
            },
            "type": "scattermap"
           }
          ],
          "scattermapbox": [
           {
            "marker": {
             "colorbar": {
              "outlinewidth": 0,
              "ticks": ""
             }
            },
            "type": "scattermapbox"
           }
          ],
          "scatterpolar": [
           {
            "marker": {
             "colorbar": {
              "outlinewidth": 0,
              "ticks": ""
             }
            },
            "type": "scatterpolar"
           }
          ],
          "scatterpolargl": [
           {
            "marker": {
             "colorbar": {
              "outlinewidth": 0,
              "ticks": ""
             }
            },
            "type": "scatterpolargl"
           }
          ],
          "scatterternary": [
           {
            "marker": {
             "colorbar": {
              "outlinewidth": 0,
              "ticks": ""
             }
            },
            "type": "scatterternary"
           }
          ],
          "surface": [
           {
            "colorbar": {
             "outlinewidth": 0,
             "ticks": ""
            },
            "colorscale": [
             [
              0,
              "#0d0887"
             ],
             [
              0.1111111111111111,
              "#46039f"
             ],
             [
              0.2222222222222222,
              "#7201a8"
             ],
             [
              0.3333333333333333,
              "#9c179e"
             ],
             [
              0.4444444444444444,
              "#bd3786"
             ],
             [
              0.5555555555555556,
              "#d8576b"
             ],
             [
              0.6666666666666666,
              "#ed7953"
             ],
             [
              0.7777777777777778,
              "#fb9f3a"
             ],
             [
              0.8888888888888888,
              "#fdca26"
             ],
             [
              1,
              "#f0f921"
             ]
            ],
            "type": "surface"
           }
          ],
          "table": [
           {
            "cells": {
             "fill": {
              "color": "#EBF0F8"
             },
             "line": {
              "color": "white"
             }
            },
            "header": {
             "fill": {
              "color": "#C8D4E3"
             },
             "line": {
              "color": "white"
             }
            },
            "type": "table"
           }
          ]
         },
         "layout": {
          "annotationdefaults": {
           "arrowcolor": "#2a3f5f",
           "arrowhead": 0,
           "arrowwidth": 1
          },
          "autotypenumbers": "strict",
          "coloraxis": {
           "colorbar": {
            "outlinewidth": 0,
            "ticks": ""
           }
          },
          "colorscale": {
           "diverging": [
            [
             0,
             "#8e0152"
            ],
            [
             0.1,
             "#c51b7d"
            ],
            [
             0.2,
             "#de77ae"
            ],
            [
             0.3,
             "#f1b6da"
            ],
            [
             0.4,
             "#fde0ef"
            ],
            [
             0.5,
             "#f7f7f7"
            ],
            [
             0.6,
             "#e6f5d0"
            ],
            [
             0.7,
             "#b8e186"
            ],
            [
             0.8,
             "#7fbc41"
            ],
            [
             0.9,
             "#4d9221"
            ],
            [
             1,
             "#276419"
            ]
           ],
           "sequential": [
            [
             0,
             "#0d0887"
            ],
            [
             0.1111111111111111,
             "#46039f"
            ],
            [
             0.2222222222222222,
             "#7201a8"
            ],
            [
             0.3333333333333333,
             "#9c179e"
            ],
            [
             0.4444444444444444,
             "#bd3786"
            ],
            [
             0.5555555555555556,
             "#d8576b"
            ],
            [
             0.6666666666666666,
             "#ed7953"
            ],
            [
             0.7777777777777778,
             "#fb9f3a"
            ],
            [
             0.8888888888888888,
             "#fdca26"
            ],
            [
             1,
             "#f0f921"
            ]
           ],
           "sequentialminus": [
            [
             0,
             "#0d0887"
            ],
            [
             0.1111111111111111,
             "#46039f"
            ],
            [
             0.2222222222222222,
             "#7201a8"
            ],
            [
             0.3333333333333333,
             "#9c179e"
            ],
            [
             0.4444444444444444,
             "#bd3786"
            ],
            [
             0.5555555555555556,
             "#d8576b"
            ],
            [
             0.6666666666666666,
             "#ed7953"
            ],
            [
             0.7777777777777778,
             "#fb9f3a"
            ],
            [
             0.8888888888888888,
             "#fdca26"
            ],
            [
             1,
             "#f0f921"
            ]
           ]
          },
          "colorway": [
           "#636efa",
           "#EF553B",
           "#00cc96",
           "#ab63fa",
           "#FFA15A",
           "#19d3f3",
           "#FF6692",
           "#B6E880",
           "#FF97FF",
           "#FECB52"
          ],
          "font": {
           "color": "#2a3f5f"
          },
          "geo": {
           "bgcolor": "white",
           "lakecolor": "white",
           "landcolor": "#E5ECF6",
           "showlakes": true,
           "showland": true,
           "subunitcolor": "white"
          },
          "hoverlabel": {
           "align": "left"
          },
          "hovermode": "closest",
          "mapbox": {
           "style": "light"
          },
          "paper_bgcolor": "white",
          "plot_bgcolor": "#E5ECF6",
          "polar": {
           "angularaxis": {
            "gridcolor": "white",
            "linecolor": "white",
            "ticks": ""
           },
           "bgcolor": "#E5ECF6",
           "radialaxis": {
            "gridcolor": "white",
            "linecolor": "white",
            "ticks": ""
           }
          },
          "scene": {
           "xaxis": {
            "backgroundcolor": "#E5ECF6",
            "gridcolor": "white",
            "gridwidth": 2,
            "linecolor": "white",
            "showbackground": true,
            "ticks": "",
            "zerolinecolor": "white"
           },
           "yaxis": {
            "backgroundcolor": "#E5ECF6",
            "gridcolor": "white",
            "gridwidth": 2,
            "linecolor": "white",
            "showbackground": true,
            "ticks": "",
            "zerolinecolor": "white"
           },
           "zaxis": {
            "backgroundcolor": "#E5ECF6",
            "gridcolor": "white",
            "gridwidth": 2,
            "linecolor": "white",
            "showbackground": true,
            "ticks": "",
            "zerolinecolor": "white"
           }
          },
          "shapedefaults": {
           "line": {
            "color": "#2a3f5f"
           }
          },
          "ternary": {
           "aaxis": {
            "gridcolor": "white",
            "linecolor": "white",
            "ticks": ""
           },
           "baxis": {
            "gridcolor": "white",
            "linecolor": "white",
            "ticks": ""
           },
           "bgcolor": "#E5ECF6",
           "caxis": {
            "gridcolor": "white",
            "linecolor": "white",
            "ticks": ""
           }
          },
          "title": {
           "x": 0.05
          },
          "xaxis": {
           "automargin": true,
           "gridcolor": "white",
           "linecolor": "white",
           "ticks": "",
           "title": {
            "standoff": 15
           },
           "zerolinecolor": "white",
           "zerolinewidth": 2
          },
          "yaxis": {
           "automargin": true,
           "gridcolor": "white",
           "linecolor": "white",
           "ticks": "",
           "title": {
            "standoff": 15
           },
           "zerolinecolor": "white",
           "zerolinewidth": 2
          }
         }
        },
        "title": {
         "text": "Air Quality Monitoring Stations in Flanders & Brussels"
        },
        "width": 800
       }
      }
     },
     "metadata": {},
     "output_type": "display_data"
    }
   ],
   "source": [
    "fig = px.scatter_map(\n",
    "    stations_pd,\n",
    "    lat=stations_pd.station_latitude,\n",
    "    lon=stations_pd.station_longitude,\n",
    "    hover_name=stations_pd.station_label,\n",
    "    zoom=6,\n",
    "    height=600,\n",
    "    width=800,\n",
    ")\n",
    "\n",
    "fig.update_layout(title=\"Air Quality Monitoring Stations in Flanders & Brussels\")\n",
    "fig.show()"
   ]
  },
  {
   "cell_type": "markdown",
   "id": "f07a3bcc",
   "metadata": {},
   "source": [
    "## Time series data\n",
    "- ID / Label all unique?? --> Yes\n",
    "- 'station'values align with station dataset? Are there stations without sime series values or time series stations not in stations dataset? --> They all allign\n",
    "- Period of the data? --> Available per hour"
   ]
  },
  {
   "cell_type": "code",
   "execution_count": 45,
   "id": "15b64136",
   "metadata": {
    "ExecuteTime": {
     "end_time": "2025-07-29T16:43:49.355307Z",
     "start_time": "2025-07-29T16:43:05.317310Z"
    }
   },
   "outputs": [],
   "source": [
    "date_to_check = datetime.date.today().strftime(\"%Y-%m-%d\")\n",
    "pollution_parameter_to_check = \"ppm25\"\n",
    "\n",
    "parsed_timeseries_latest_data = (\n",
    "    get_and_parse_timeseries_data(time_series_url)\n",
    "    .query(f\"last_timestamp.str.contains('{date_to_check}')\")\n",
    "    .query(f\"pollutant_parameter == '{pollution_parameter_to_check}'\")\n",
    ")[[\"station_id\", \"last_value\"]]"
   ]
  },
  {
   "cell_type": "code",
   "execution_count": 46,
   "id": "f8e4ebb8",
   "metadata": {
    "ExecuteTime": {
     "end_time": "2025-07-29T16:50:22.702104Z",
     "start_time": "2025-07-29T16:50:22.647324Z"
    },
    "scrolled": true
   },
   "outputs": [
    {
     "data": {
      "text/html": [
       "<div>\n",
       "<style scoped>\n",
       "    .dataframe tbody tr th:only-of-type {\n",
       "        vertical-align: middle;\n",
       "    }\n",
       "\n",
       "    .dataframe tbody tr th {\n",
       "        vertical-align: top;\n",
       "    }\n",
       "\n",
       "    .dataframe thead th {\n",
       "        text-align: right;\n",
       "    }\n",
       "</style>\n",
       "<table border=\"1\" class=\"dataframe\">\n",
       "  <thead>\n",
       "    <tr style=\"text-align: right;\">\n",
       "      <th></th>\n",
       "      <th>station_city</th>\n",
       "      <th>pollution</th>\n",
       "      <th>nb_stations</th>\n",
       "    </tr>\n",
       "  </thead>\n",
       "  <tbody>\n",
       "    <tr>\n",
       "      <th>0</th>\n",
       "      <td>Menen</td>\n",
       "      <td>13.384</td>\n",
       "      <td>1</td>\n",
       "    </tr>\n",
       "    <tr>\n",
       "      <th>1</th>\n",
       "      <td>Hasselt</td>\n",
       "      <td>12.953</td>\n",
       "      <td>1</td>\n",
       "    </tr>\n",
       "    <tr>\n",
       "      <th>2</th>\n",
       "      <td>Roeselare</td>\n",
       "      <td>12.953</td>\n",
       "      <td>2</td>\n",
       "    </tr>\n",
       "    <tr>\n",
       "      <th>3</th>\n",
       "      <td>Zwevegem</td>\n",
       "      <td>12.089</td>\n",
       "      <td>1</td>\n",
       "    </tr>\n",
       "    <tr>\n",
       "      <th>4</th>\n",
       "      <td>Mechelen</td>\n",
       "      <td>11.657</td>\n",
       "      <td>1</td>\n",
       "    </tr>\n",
       "    <tr>\n",
       "      <th>5</th>\n",
       "      <td>Vilvoorde</td>\n",
       "      <td>11.657</td>\n",
       "      <td>1</td>\n",
       "    </tr>\n",
       "    <tr>\n",
       "      <th>6</th>\n",
       "      <td>Aarschot</td>\n",
       "      <td>11.657</td>\n",
       "      <td>1</td>\n",
       "    </tr>\n",
       "    <tr>\n",
       "      <th>7</th>\n",
       "      <td>Boom</td>\n",
       "      <td>11.226</td>\n",
       "      <td>1</td>\n",
       "    </tr>\n",
       "    <tr>\n",
       "      <th>8</th>\n",
       "      <td>Houthalen-helchteren</td>\n",
       "      <td>10.794</td>\n",
       "      <td>1</td>\n",
       "    </tr>\n",
       "    <tr>\n",
       "      <th>9</th>\n",
       "      <td>Oostrozebeke</td>\n",
       "      <td>10.362</td>\n",
       "      <td>1</td>\n",
       "    </tr>\n",
       "    <tr>\n",
       "      <th>10</th>\n",
       "      <td>Genk</td>\n",
       "      <td>10.362</td>\n",
       "      <td>1</td>\n",
       "    </tr>\n",
       "    <tr>\n",
       "      <th>11</th>\n",
       "      <td>Steenokkerzeel</td>\n",
       "      <td>9.930</td>\n",
       "      <td>1</td>\n",
       "    </tr>\n",
       "    <tr>\n",
       "      <th>12</th>\n",
       "      <td>Brussel</td>\n",
       "      <td>9.748</td>\n",
       "      <td>1</td>\n",
       "    </tr>\n",
       "    <tr>\n",
       "      <th>13</th>\n",
       "      <td>Molenbeek-saint-jean</td>\n",
       "      <td>9.610</td>\n",
       "      <td>1</td>\n",
       "    </tr>\n",
       "    <tr>\n",
       "      <th>14</th>\n",
       "      <td>Berchem-sainte-agathe</td>\n",
       "      <td>9.061</td>\n",
       "      <td>1</td>\n",
       "    </tr>\n",
       "    <tr>\n",
       "      <th>15</th>\n",
       "      <td>Uccle</td>\n",
       "      <td>8.511</td>\n",
       "      <td>1</td>\n",
       "    </tr>\n",
       "    <tr>\n",
       "      <th>16</th>\n",
       "      <td>Meudon</td>\n",
       "      <td>8.328</td>\n",
       "      <td>1</td>\n",
       "    </tr>\n",
       "    <tr>\n",
       "      <th>17</th>\n",
       "      <td>Walshoutem</td>\n",
       "      <td>7.771</td>\n",
       "      <td>1</td>\n",
       "    </tr>\n",
       "    <tr>\n",
       "      <th>18</th>\n",
       "      <td>Haren</td>\n",
       "      <td>7.412</td>\n",
       "      <td>1</td>\n",
       "    </tr>\n",
       "    <tr>\n",
       "      <th>19</th>\n",
       "      <td>Antwerpen</td>\n",
       "      <td>7.340</td>\n",
       "      <td>8</td>\n",
       "    </tr>\n",
       "    <tr>\n",
       "      <th>20</th>\n",
       "      <td>Deurne</td>\n",
       "      <td>6.908</td>\n",
       "      <td>1</td>\n",
       "    </tr>\n",
       "    <tr>\n",
       "      <th>21</th>\n",
       "      <td>Borgerhout</td>\n",
       "      <td>6.908</td>\n",
       "      <td>2</td>\n",
       "    </tr>\n",
       "    <tr>\n",
       "      <th>22</th>\n",
       "      <td>Sint-kruiswinkel</td>\n",
       "      <td>6.476</td>\n",
       "      <td>1</td>\n",
       "    </tr>\n",
       "    <tr>\n",
       "      <th>23</th>\n",
       "      <td>Zwijndrecht</td>\n",
       "      <td>6.476</td>\n",
       "      <td>2</td>\n",
       "    </tr>\n",
       "    <tr>\n",
       "      <th>24</th>\n",
       "      <td>Hoboken</td>\n",
       "      <td>6.476</td>\n",
       "      <td>1</td>\n",
       "    </tr>\n",
       "    <tr>\n",
       "      <th>25</th>\n",
       "      <td>Beveren</td>\n",
       "      <td>6.045</td>\n",
       "      <td>5</td>\n",
       "    </tr>\n",
       "    <tr>\n",
       "      <th>26</th>\n",
       "      <td>Zelzate</td>\n",
       "      <td>6.045</td>\n",
       "      <td>1</td>\n",
       "    </tr>\n",
       "    <tr>\n",
       "      <th>27</th>\n",
       "      <td>Rieme</td>\n",
       "      <td>6.045</td>\n",
       "      <td>1</td>\n",
       "    </tr>\n",
       "    <tr>\n",
       "      <th>28</th>\n",
       "      <td>Dessel</td>\n",
       "      <td>5.613</td>\n",
       "      <td>1</td>\n",
       "    </tr>\n",
       "    <tr>\n",
       "      <th>29</th>\n",
       "      <td>Merksem</td>\n",
       "      <td>5.613</td>\n",
       "      <td>1</td>\n",
       "    </tr>\n",
       "    <tr>\n",
       "      <th>30</th>\n",
       "      <td>Houtem</td>\n",
       "      <td>5.613</td>\n",
       "      <td>1</td>\n",
       "    </tr>\n",
       "    <tr>\n",
       "      <th>31</th>\n",
       "      <td>Destelbergen</td>\n",
       "      <td>5.181</td>\n",
       "      <td>1</td>\n",
       "    </tr>\n",
       "    <tr>\n",
       "      <th>32</th>\n",
       "      <td>Gent</td>\n",
       "      <td>5.181</td>\n",
       "      <td>2</td>\n",
       "    </tr>\n",
       "    <tr>\n",
       "      <th>33</th>\n",
       "      <td>Zeebrugge</td>\n",
       "      <td>4.749</td>\n",
       "      <td>2</td>\n",
       "    </tr>\n",
       "    <tr>\n",
       "      <th>34</th>\n",
       "      <td>Hoevenen</td>\n",
       "      <td>4.317</td>\n",
       "      <td>1</td>\n",
       "    </tr>\n",
       "    <tr>\n",
       "      <th>35</th>\n",
       "      <td>Moerkerke</td>\n",
       "      <td>4.317</td>\n",
       "      <td>1</td>\n",
       "    </tr>\n",
       "  </tbody>\n",
       "</table>\n",
       "</div>"
      ],
      "text/plain": [
       "             station_city  pollution  nb_stations\n",
       "0                   Menen     13.384            1\n",
       "1                 Hasselt     12.953            1\n",
       "2               Roeselare     12.953            2\n",
       "3                Zwevegem     12.089            1\n",
       "4                Mechelen     11.657            1\n",
       "5               Vilvoorde     11.657            1\n",
       "6                Aarschot     11.657            1\n",
       "7                    Boom     11.226            1\n",
       "8    Houthalen-helchteren     10.794            1\n",
       "9            Oostrozebeke     10.362            1\n",
       "10                   Genk     10.362            1\n",
       "11         Steenokkerzeel      9.930            1\n",
       "12                Brussel      9.748            1\n",
       "13   Molenbeek-saint-jean      9.610            1\n",
       "14  Berchem-sainte-agathe      9.061            1\n",
       "15                  Uccle      8.511            1\n",
       "16                 Meudon      8.328            1\n",
       "17             Walshoutem      7.771            1\n",
       "18                  Haren      7.412            1\n",
       "19              Antwerpen      7.340            8\n",
       "20                 Deurne      6.908            1\n",
       "21             Borgerhout      6.908            2\n",
       "22       Sint-kruiswinkel      6.476            1\n",
       "23            Zwijndrecht      6.476            2\n",
       "24                Hoboken      6.476            1\n",
       "25                Beveren      6.045            5\n",
       "26                Zelzate      6.045            1\n",
       "27                  Rieme      6.045            1\n",
       "28                 Dessel      5.613            1\n",
       "29                Merksem      5.613            1\n",
       "30                 Houtem      5.613            1\n",
       "31           Destelbergen      5.181            1\n",
       "32                   Gent      5.181            2\n",
       "33              Zeebrugge      4.749            2\n",
       "34               Hoevenen      4.317            1\n",
       "35              Moerkerke      4.317            1"
      ]
     },
     "execution_count": 46,
     "metadata": {},
     "output_type": "execute_result"
    }
   ],
   "source": [
    "# Check the most polluting cities\n",
    "\n",
    "pollution_per_city = (\n",
    "    pd.merge(stations_pd, parsed_timeseries_latest_data, on=\"station_id\")\n",
    "    .groupby(\"station_city\")\n",
    "    .agg(\n",
    "        pollution=(\"last_value\", \"max\"),\n",
    "        nb_stations=(\"station_id\", \"count\")\n",
    "    )\n",
    "    .sort_values(by=\"pollution\", ascending=False)\n",
    "    .reset_index()\n",
    ")\n",
    "\n",
    "pollution_per_city"
   ]
  },
  {
   "cell_type": "code",
   "execution_count": null,
   "id": "2480f996",
   "metadata": {},
   "outputs": [],
   "source": []
  },
  {
   "cell_type": "code",
   "execution_count": null,
   "id": "126534fb",
   "metadata": {},
   "outputs": [],
   "source": []
  }
 ],
 "metadata": {
  "kernelspec": {
   "display_name": "brussels_airlines_case_env",
   "language": "python",
   "name": "python3"
  },
  "language_info": {
   "codemirror_mode": {
    "name": "ipython",
    "version": 3
   },
   "file_extension": ".py",
   "mimetype": "text/x-python",
   "name": "python",
   "nbconvert_exporter": "python",
   "pygments_lexer": "ipython3",
   "version": "3.13.5"
  },
  "toc": {
   "base_numbering": 1,
   "nav_menu": {},
   "number_sections": true,
   "sideBar": true,
   "skip_h1_title": false,
   "title_cell": "Table of Contents",
   "title_sidebar": "Contents",
   "toc_cell": false,
   "toc_position": {},
   "toc_section_display": true,
   "toc_window_display": false
  },
  "varInspector": {
   "cols": {
    "lenName": 16,
    "lenType": 16,
    "lenVar": 40
   },
   "kernels_config": {
    "python": {
     "delete_cmd_postfix": "",
     "delete_cmd_prefix": "del ",
     "library": "var_list.py",
     "varRefreshCmd": "print(var_dic_list())"
    },
    "r": {
     "delete_cmd_postfix": ") ",
     "delete_cmd_prefix": "rm(",
     "library": "var_list.r",
     "varRefreshCmd": "cat(var_dic_list()) "
    }
   },
   "types_to_exclude": [
    "module",
    "function",
    "builtin_function_or_method",
    "instance",
    "_Feature"
   ],
   "window_display": false
  }
 },
 "nbformat": 4,
 "nbformat_minor": 5
}
